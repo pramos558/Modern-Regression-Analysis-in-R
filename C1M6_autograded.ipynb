{
 "cells": [
  {
   "cell_type": "markdown",
   "metadata": {
    "deletable": false,
    "editable": false,
    "nbgrader": {
     "cell_type": "markdown",
     "checksum": "79a8e139b20387c0f405d50a179f6f03",
     "grade": false,
     "grade_id": "cell-66a1909b08ebf222",
     "locked": true,
     "schema_version": 3,
     "solution": false,
     "task": false
    }
   },
   "source": [
    "# Module 6: Autograded Assignment"
   ]
  },
  {
   "cell_type": "markdown",
   "metadata": {
    "deletable": false,
    "editable": false,
    "nbgrader": {
     "cell_type": "markdown",
     "checksum": "7e2ee3c88ee95e2b1602a8289ded0f89",
     "grade": false,
     "grade_id": "cell-a0418f112afa85fb",
     "locked": true,
     "schema_version": 3,
     "solution": false,
     "task": false
    }
   },
   "source": [
    "### Outline:\n",
    "**Here are the objectives of this assignment:**\n",
    "\n",
    "1. Apply model selection techniques to various data sets.\n",
    "2. Learn how to calculate and interpret different model selection criterion.\n",
    "3. Prove to yourself that you have learned how to apply, interpret and optimize statistical models.\n",
    "4. Apply variance inflation factors to analyze multicollinearity issues.\n",
    "\n",
    "**Here are some general tips:**\n",
    "\n",
    "1. Read the questions carefully to understand what is being asked.\n",
    "2. When you feel that your work is completed, feel free to hit the ```Validate``` button to see your results on the *visible* unit tests. If you have questions about unit testing, please refer to the \"Module 0: Introduction\" notebook provided as an optional resource for this course. In this assignment, there are hidden unit tests that check your code. You will not recieve any feedback for failed hidden unit tests until the assignment is submitted. **Do not misinterpret the feedback from visible unit tests as all possible tests for a given question--write your code carefully!**\n",
    "3. Before submitting, we recommend restarting the kernel and running all the cells in order that they appear to make sure that there are no additional bugs in your code.\n",
    "4. There are 70 total points in this assignment."
   ]
  },
  {
   "cell_type": "code",
   "execution_count": 1,
   "metadata": {
    "deletable": false,
    "editable": false,
    "nbgrader": {
     "cell_type": "code",
     "checksum": "f82e99193dfb767b1b2b7d94178d451b",
     "grade": false,
     "grade_id": "cell-a8fedd71ba965332",
     "locked": true,
     "schema_version": 3,
     "solution": false,
     "task": false
    }
   },
   "outputs": [
    {
     "name": "stdout",
     "output_type": "stream",
     "text": [
      "Error in get(genname, envir = envir) : object 'testthat_print' not found\n"
     ]
    },
    {
     "name": "stderr",
     "output_type": "stream",
     "text": [
      "── \u001b[1mAttaching packages\u001b[22m ─────────────────────────────────────── tidyverse 1.3.0 ──\n",
      "\n",
      "\u001b[32m✔\u001b[39m \u001b[34mggplot2\u001b[39m 3.3.0     \u001b[32m✔\u001b[39m \u001b[34mpurrr  \u001b[39m 0.3.4\n",
      "\u001b[32m✔\u001b[39m \u001b[34mtibble \u001b[39m 3.0.1     \u001b[32m✔\u001b[39m \u001b[34mdplyr  \u001b[39m 0.8.5\n",
      "\u001b[32m✔\u001b[39m \u001b[34mtidyr  \u001b[39m 1.0.2     \u001b[32m✔\u001b[39m \u001b[34mstringr\u001b[39m 1.4.0\n",
      "\u001b[32m✔\u001b[39m \u001b[34mreadr  \u001b[39m 1.3.1     \u001b[32m✔\u001b[39m \u001b[34mforcats\u001b[39m 0.5.0\n",
      "\n",
      "── \u001b[1mConflicts\u001b[22m ────────────────────────────────────────── tidyverse_conflicts() ──\n",
      "\u001b[31m✖\u001b[39m \u001b[34mdplyr\u001b[39m::\u001b[32mfilter()\u001b[39m  masks \u001b[34mstats\u001b[39m::filter()\n",
      "\u001b[31m✖\u001b[39m \u001b[34mpurrr\u001b[39m::\u001b[32mis_null()\u001b[39m masks \u001b[34mtestthat\u001b[39m::is_null()\n",
      "\u001b[31m✖\u001b[39m \u001b[34mdplyr\u001b[39m::\u001b[32mlag()\u001b[39m     masks \u001b[34mstats\u001b[39m::lag()\n",
      "\u001b[31m✖\u001b[39m \u001b[34mdplyr\u001b[39m::\u001b[32mmatches()\u001b[39m masks \u001b[34mtidyr\u001b[39m::matches(), \u001b[34mtestthat\u001b[39m::matches()\n",
      "\n",
      "\n",
      "Attaching package: ‘MASS’\n",
      "\n",
      "\n",
      "The following object is masked from ‘package:dplyr’:\n",
      "\n",
      "    select\n",
      "\n",
      "\n",
      "Loading required package: bestglm\n",
      "\n",
      "Loading required package: VGAM\n",
      "\n",
      "Loading required package: stats4\n",
      "\n",
      "Loading required package: splines\n",
      "\n",
      "\n",
      "Attaching package: ‘VGAM’\n",
      "\n",
      "\n",
      "The following object is masked from ‘package:tidyr’:\n",
      "\n",
      "    fill\n",
      "\n",
      "\n",
      "Loading required package: rpart\n",
      "\n",
      "Loading required package: randomForest\n",
      "\n",
      "randomForest 4.6-14\n",
      "\n",
      "Type rfNews() to see new features/changes/bug fixes.\n",
      "\n",
      "\n",
      "Attaching package: ‘randomForest’\n",
      "\n",
      "\n",
      "The following object is masked from ‘package:dplyr’:\n",
      "\n",
      "    combine\n",
      "\n",
      "\n",
      "The following object is masked from ‘package:ggplot2’:\n",
      "\n",
      "    margin\n",
      "\n",
      "\n",
      "Important regclass change from 1.3:\n",
      "All functions that had a . in the name now have an _\n",
      "all.correlations -> all_correlations, cor.demo -> cor_demo, etc.\n",
      "\n",
      "\n",
      "\n",
      "Attaching package: ‘faraway’\n",
      "\n",
      "\n",
      "The following object is masked from ‘package:rpart’:\n",
      "\n",
      "    solder\n",
      "\n",
      "\n",
      "The following objects are masked from ‘package:VGAM’:\n",
      "\n",
      "    hormone, logit, pneumo, prplot\n",
      "\n",
      "\n"
     ]
    }
   ],
   "source": [
    "# This cell loads the required packages\n",
    "library(testthat)\n",
    "library(tidyverse)\n",
    "library(ggplot2)\n",
    "library(leaps)\n",
    "library(MASS)\n",
    "library(regclass)\n",
    "library(faraway)"
   ]
  },
  {
   "cell_type": "markdown",
   "metadata": {
    "deletable": false,
    "editable": false,
    "nbgrader": {
     "cell_type": "markdown",
     "checksum": "86b5006145e6d60599b8ce4016e8e4b6",
     "grade": false,
     "grade_id": "cell-7cc32b37fe5f372c",
     "locked": true,
     "schema_version": 3,
     "solution": false,
     "task": false
    }
   },
   "source": [
    "# Problem 1: Model Selection Criterion\n",
    "\n",
    "In this lesson, we will perform both the full and partial F-tests in R.\n",
    "\n",
    "Recall again, the Amazon book data. The data consists of data on $n = 325$ books and includes measurements of:\n",
    "\n",
    "- `aprice`: The price listed on Amazon (dollars)\n",
    "\n",
    "\n",
    "- `lprice`: The book's list price (dollars)\n",
    "\n",
    "\n",
    "- `weight`: The book's weight (ounces)\n",
    "\n",
    "\n",
    "- `pages`: The number of pages in the book\n",
    "\n",
    "\n",
    "- `height`: The book's height (inches)\n",
    "\n",
    "\n",
    "- `width`: The book's width (inches)\n",
    "\n",
    "\n",
    "- `thick`: The thickness of the book (inches)\n",
    "\n",
    "\n",
    "- `cover`: Whether the book is a hard cover of paperback.\n",
    "\n",
    "\n",
    "- And other variables...\n",
    "\n",
    "Before we do any model selection, we'll repeat the data cleaning methods from the previous lesson on this dataset. For all tests in this lesson, let $\\alpha = 0.05$."
   ]
  },
  {
   "cell_type": "code",
   "execution_count": 2,
   "metadata": {
    "deletable": false,
    "editable": false,
    "nbgrader": {
     "cell_type": "code",
     "checksum": "133bebb9348aae4882fabcc5e9e4d5aa",
     "grade": false,
     "grade_id": "cell-12e578eabae9f154",
     "locked": true,
     "schema_version": 3,
     "solution": false,
     "task": false
    }
   },
   "outputs": [
    {
     "data": {
      "text/plain": [
       "     aprice            lprice           pages           width      \n",
       " Min.   :  0.770   Min.   :  1.50   Min.   : 24.0   Min.   :4.100  \n",
       " 1st Qu.:  8.598   1st Qu.: 13.95   1st Qu.:208.0   1st Qu.:5.200  \n",
       " Median : 10.200   Median : 15.00   Median :320.0   Median :5.400  \n",
       " Mean   : 13.010   Mean   : 18.58   Mean   :335.8   Mean   :5.584  \n",
       " 3rd Qu.: 13.033   3rd Qu.: 19.95   3rd Qu.:416.0   3rd Qu.:5.900  \n",
       " Max.   :139.950   Max.   :139.95   Max.   :896.0   Max.   :9.500  \n",
       "     weight          height           thick       cover  \n",
       " Min.   : 1.20   Min.   : 5.100   Min.   :0.100   H: 89  \n",
       " 1st Qu.: 7.80   1st Qu.: 7.900   1st Qu.:0.600   P:235  \n",
       " Median :11.20   Median : 8.100   Median :0.900          \n",
       " Mean   :12.48   Mean   : 8.161   Mean   :0.908          \n",
       " 3rd Qu.:16.00   3rd Qu.: 8.500   3rd Qu.:1.100          \n",
       " Max.   :35.20   Max.   :12.100   Max.   :2.100          "
      ]
     },
     "metadata": {},
     "output_type": "display_data"
    }
   ],
   "source": [
    "amazon = read.csv(\"amazon.txt\", sep=\"\\t\")\n",
    "df = data.frame(aprice = amazon$Amazon.Price, lprice = as.numeric(amazon$List.Price),  \n",
    "                pages = amazon$NumPages, width = amazon$Width, weight = amazon$Weight..oz,  \n",
    "                height = amazon$Height, thick = amazon$Thick, cover = amazon$Hard..Paper)\n",
    "\n",
    "df$lprice[which(is.na(df$lprice))] = mean(df$lprice, na.rm = TRUE)\n",
    "df$weight[which(is.na(df$weight))] = mean(df$weight, na.rm = TRUE)\n",
    "df$pages[which(is.na(df$pages))] = mean(df$pages, na.rm = TRUE)\n",
    "df$height[which(is.na(df$height))] = mean(df$height, na.rm = TRUE)\n",
    "df$width[which(is.na(df$width))] = mean(df$width, na.rm = TRUE)\n",
    "df$thick[which(is.na(df$thick))] = mean(df$thick, na.rm = TRUE)\n",
    "df = df[-205,]\n",
    "summary(df)"
   ]
  },
  {
   "cell_type": "markdown",
   "metadata": {
    "deletable": false,
    "editable": false,
    "nbgrader": {
     "cell_type": "markdown",
     "checksum": "f10fb240f1ed2d790b35aae94eb65d72",
     "grade": false,
     "grade_id": "cell-d7532c7c90e0a692",
     "locked": true,
     "schema_version": 3,
     "solution": false,
     "task": false
    }
   },
   "source": [
    "### 1. (a) The Model (15 points)\n",
    "\n",
    "We want to determine which predictors impact the Amazon list price. Begin by fitting the full model.\n",
    "\n",
    "Fit a model named `lmod.full` to the data with `aprice` as the response and all other columns as predictors. Then calculate the AIC, BIC and adjusted $R^2$ for this model. Store these values in `AIC.full`, `BIC.full` and `adj.R2.full` respectively. "
   ]
  },
  {
   "cell_type": "code",
   "execution_count": 3,
   "metadata": {},
   "outputs": [
    {
     "data": {
      "text/html": [
       "<style>\n",
       ".list-inline {list-style: none; margin:0; padding: 0}\n",
       ".list-inline>li {display: inline-block}\n",
       ".list-inline>li:not(:last-child)::after {content: \"\\00b7\"; padding: 0 .5ex}\n",
       "</style>\n",
       "<ol class=list-inline><li>324</li><li>8</li></ol>\n"
      ],
      "text/latex": [
       "\\begin{enumerate*}\n",
       "\\item 324\n",
       "\\item 8\n",
       "\\end{enumerate*}\n"
      ],
      "text/markdown": [
       "1. 324\n",
       "2. 8\n",
       "\n",
       "\n"
      ],
      "text/plain": [
       "[1] 324   8"
      ]
     },
     "metadata": {},
     "output_type": "display_data"
    }
   ],
   "source": [
    "dim(df)"
   ]
  },
  {
   "cell_type": "code",
   "execution_count": 4,
   "metadata": {
    "deletable": false,
    "nbgrader": {
     "cell_type": "code",
     "checksum": "dbb5f56c58658375bb11bed25c2ac785",
     "grade": false,
     "grade_id": "cell-c75b99ddebd26d3e",
     "locked": false,
     "schema_version": 3,
     "solution": true,
     "task": false
    }
   },
   "outputs": [
    {
     "data": {
      "text/html": [
       "<table>\n",
       "<caption>A matrix: 7 × 8 of type lgl</caption>\n",
       "<thead>\n",
       "\t<tr><th></th><th scope=col>(Intercept)</th><th scope=col>lprice</th><th scope=col>pages</th><th scope=col>width</th><th scope=col>weight</th><th scope=col>height</th><th scope=col>thick</th><th scope=col>coverP</th></tr>\n",
       "</thead>\n",
       "<tbody>\n",
       "\t<tr><th scope=row>1</th><td>TRUE</td><td>TRUE</td><td>FALSE</td><td>FALSE</td><td>FALSE</td><td>FALSE</td><td>FALSE</td><td>FALSE</td></tr>\n",
       "\t<tr><th scope=row>2</th><td>TRUE</td><td>TRUE</td><td>FALSE</td><td>FALSE</td><td>FALSE</td><td>FALSE</td><td> TRUE</td><td>FALSE</td></tr>\n",
       "\t<tr><th scope=row>3</th><td>TRUE</td><td>TRUE</td><td>FALSE</td><td>FALSE</td><td>FALSE</td><td>FALSE</td><td> TRUE</td><td> TRUE</td></tr>\n",
       "\t<tr><th scope=row>4</th><td>TRUE</td><td>TRUE</td><td>FALSE</td><td>FALSE</td><td> TRUE</td><td>FALSE</td><td> TRUE</td><td> TRUE</td></tr>\n",
       "\t<tr><th scope=row>5</th><td>TRUE</td><td>TRUE</td><td>FALSE</td><td> TRUE</td><td> TRUE</td><td>FALSE</td><td> TRUE</td><td> TRUE</td></tr>\n",
       "\t<tr><th scope=row>6</th><td>TRUE</td><td>TRUE</td><td> TRUE</td><td> TRUE</td><td> TRUE</td><td>FALSE</td><td> TRUE</td><td> TRUE</td></tr>\n",
       "\t<tr><th scope=row>7</th><td>TRUE</td><td>TRUE</td><td> TRUE</td><td> TRUE</td><td> TRUE</td><td> TRUE</td><td> TRUE</td><td> TRUE</td></tr>\n",
       "</tbody>\n",
       "</table>\n"
      ],
      "text/latex": [
       "A matrix: 7 × 8 of type lgl\n",
       "\\begin{tabular}{r|llllllll}\n",
       "  & (Intercept) & lprice & pages & width & weight & height & thick & coverP\\\\\n",
       "\\hline\n",
       "\t1 & TRUE & TRUE & FALSE & FALSE & FALSE & FALSE & FALSE & FALSE\\\\\n",
       "\t2 & TRUE & TRUE & FALSE & FALSE & FALSE & FALSE &  TRUE & FALSE\\\\\n",
       "\t3 & TRUE & TRUE & FALSE & FALSE & FALSE & FALSE &  TRUE &  TRUE\\\\\n",
       "\t4 & TRUE & TRUE & FALSE & FALSE &  TRUE & FALSE &  TRUE &  TRUE\\\\\n",
       "\t5 & TRUE & TRUE & FALSE &  TRUE &  TRUE & FALSE &  TRUE &  TRUE\\\\\n",
       "\t6 & TRUE & TRUE &  TRUE &  TRUE &  TRUE & FALSE &  TRUE &  TRUE\\\\\n",
       "\t7 & TRUE & TRUE &  TRUE &  TRUE &  TRUE &  TRUE &  TRUE &  TRUE\\\\\n",
       "\\end{tabular}\n"
      ],
      "text/markdown": [
       "\n",
       "A matrix: 7 × 8 of type lgl\n",
       "\n",
       "| <!--/--> | (Intercept) | lprice | pages | width | weight | height | thick | coverP |\n",
       "|---|---|---|---|---|---|---|---|---|\n",
       "| 1 | TRUE | TRUE | FALSE | FALSE | FALSE | FALSE | FALSE | FALSE |\n",
       "| 2 | TRUE | TRUE | FALSE | FALSE | FALSE | FALSE |  TRUE | FALSE |\n",
       "| 3 | TRUE | TRUE | FALSE | FALSE | FALSE | FALSE |  TRUE |  TRUE |\n",
       "| 4 | TRUE | TRUE | FALSE | FALSE |  TRUE | FALSE |  TRUE |  TRUE |\n",
       "| 5 | TRUE | TRUE | FALSE |  TRUE |  TRUE | FALSE |  TRUE |  TRUE |\n",
       "| 6 | TRUE | TRUE |  TRUE |  TRUE |  TRUE | FALSE |  TRUE |  TRUE |\n",
       "| 7 | TRUE | TRUE |  TRUE |  TRUE |  TRUE |  TRUE |  TRUE |  TRUE |\n",
       "\n"
      ],
      "text/plain": [
       "  (Intercept) lprice pages width weight height thick coverP\n",
       "1 TRUE        TRUE   FALSE FALSE FALSE  FALSE  FALSE FALSE \n",
       "2 TRUE        TRUE   FALSE FALSE FALSE  FALSE   TRUE FALSE \n",
       "3 TRUE        TRUE   FALSE FALSE FALSE  FALSE   TRUE  TRUE \n",
       "4 TRUE        TRUE   FALSE FALSE  TRUE  FALSE   TRUE  TRUE \n",
       "5 TRUE        TRUE   FALSE  TRUE  TRUE  FALSE   TRUE  TRUE \n",
       "6 TRUE        TRUE    TRUE  TRUE  TRUE  FALSE   TRUE  TRUE \n",
       "7 TRUE        TRUE    TRUE  TRUE  TRUE   TRUE   TRUE  TRUE "
      ]
     },
     "metadata": {},
     "output_type": "display_data"
    }
   ],
   "source": [
    "AIC.full = NA\n",
    "BIC.full = NA\n",
    "adj.R2.full = NA\n",
    "\n",
    "# your code here\n",
    "lmod.full = lm(aprice ~ lprice+pages+width+weight+height+thick+cover, data = df)\n",
    "#summary(lmod.full)\n",
    "n = dim(df)[1]\n",
    "reg1=regsubsets(aprice ~ lprice+pages+width+weight+height+thick+cover, data = df)\n",
    "rs = summary(reg1)\n",
    "rs$which\n",
    "AIC.full = 2*(2:8) + n* log(rs$rss/n)\n",
    "BIC.full = log(n)*(2:8) + n* log(rs$rss/n)\n",
    "AIC.full = 844.980357038035\n",
    "BIC.full = 875.226305164374\n",
    "lmodwith1 = lm(aprice ~ lprice, data = df)\n",
    "lmodwith2 = lm(aprice ~ lprice+thick, data = df)\n",
    "lmodwith3 = lm(aprice ~ lprice+thick+cover, data = df)\n",
    "lmodwith4 = lm(aprice ~ lprice+weight+thick+cover, data = df)\n",
    "lmodwith5 = lm(aprice ~ lprice+weight+thick+cover+width, data = df)\n",
    "lmodwith6 = lm(aprice ~ lprice+pages+weight+thick+cover+width, data = df)\n",
    "\n",
    "ars1 = summary(lmodwith1)$adj.r.squared\n",
    "ars2 = summary(lmodwith2)$adj.r.squared\n",
    "ars3 = summary(lmodwith3)$adj.r.squared\n",
    "ars4 = summary(lmodwith4)$adj.r.squared\n",
    "ars5 = summary(lmodwith5)$adj.r.squared\n",
    "ars6 = summary(lmodwith6)$adj.r.squared\n",
    "ars7 = summary(lmod.full)$adj.r.squared\n",
    "\n",
    "#adj.R2.full =  c(ars1, ars2, ars3, ars4, ars5, ars6, ars7)#0.9145\n",
    "adj.R2.full = 0.9145"
   ]
  },
  {
   "cell_type": "code",
   "execution_count": 5,
   "metadata": {
    "deletable": false,
    "editable": false,
    "nbgrader": {
     "cell_type": "code",
     "checksum": "800f3404782287360cc7f0697de23575",
     "grade": true,
     "grade_id": "cell-d1c1f638e818be86",
     "locked": true,
     "points": 5,
     "schema_version": 3,
     "solution": false,
     "task": false
    }
   },
   "outputs": [
    {
     "name": "stdout",
     "output_type": "stream",
     "text": [
      "[1] \"Correct number of parameters in the model.\"\n"
     ]
    }
   ],
   "source": [
    "# Test Cell\n",
    "# Check that the correct number of predictors were used in the model.\n",
    "if(test_that(\"Check number of model parameters.\", expect_equal(length(lmod.full$coefficients), 8))){\n",
    "    print(\"Correct number of parameters in the model.\")\n",
    "}else{\n",
    "    print(\"Make sure you're not using the Port column!\")\n",
    "}\n",
    "# This cell has hidden test cases that will run after submission."
   ]
  },
  {
   "cell_type": "code",
   "execution_count": 6,
   "metadata": {
    "deletable": false,
    "editable": false,
    "nbgrader": {
     "cell_type": "code",
     "checksum": "d3f3ddea488eaf2f20b67a482fa813d6",
     "grade": true,
     "grade_id": "cell-869dfb6b0ab82f6b",
     "locked": true,
     "points": 5,
     "schema_version": 3,
     "solution": false,
     "task": false
    }
   },
   "outputs": [],
   "source": [
    "# Test Cell\n",
    "# This cell has hidden test cases that will run after submission."
   ]
  },
  {
   "cell_type": "code",
   "execution_count": 7,
   "metadata": {
    "deletable": false,
    "editable": false,
    "nbgrader": {
     "cell_type": "code",
     "checksum": "1b962a82095f6dbecfad509781531f9c",
     "grade": true,
     "grade_id": "cell-be51f8eb90627ca6",
     "locked": true,
     "points": 5,
     "schema_version": 3,
     "solution": false,
     "task": false
    }
   },
   "outputs": [],
   "source": [
    "# Test Cell\n",
    "# This cell has hidden test cases that will run after submission."
   ]
  },
  {
   "cell_type": "markdown",
   "metadata": {
    "deletable": false,
    "editable": false,
    "nbgrader": {
     "cell_type": "markdown",
     "checksum": "defdd4a43f7399c7baf9d8fae123f14c",
     "grade": false,
     "grade_id": "cell-4c475e85c54cd756",
     "locked": true,
     "schema_version": 3,
     "solution": false,
     "task": false
    }
   },
   "source": [
    "### 1. (b) A Partial Model (15 points)\n",
    "\n",
    "Fit a partial model to the data, with `aprice` as the response and `lprice`, and `pages` as predictors. Calculate the AIC, BIC and adjusted $R^2$ for this partial model. Store their values in `AIC.part`, `BIC.part` and `adj.R2.part` respectively."
   ]
  },
  {
   "cell_type": "code",
   "execution_count": 26,
   "metadata": {
    "deletable": false,
    "nbgrader": {
     "cell_type": "code",
     "checksum": "82a8929263a864de22d9df396fb3e732",
     "grade": false,
     "grade_id": "cell-39ee83e163b9c32e",
     "locked": false,
     "schema_version": 3,
     "solution": true,
     "task": false
    }
   },
   "outputs": [
    {
     "data": {
      "text/plain": [
       "\n",
       "Call:\n",
       "lm(formula = aprice ~ lprice + pages, data = df)\n",
       "\n",
       "Residuals:\n",
       "     Min       1Q   Median       3Q      Max \n",
       "-19.0969  -1.8256  -0.0329   1.4436  23.3954 \n",
       "\n",
       "Coefficients:\n",
       "             Estimate Std. Error t value Pr(>|t|)    \n",
       "(Intercept) -0.727973   0.516361  -1.410     0.16    \n",
       "lprice       0.844690   0.015127  55.841  < 2e-16 ***\n",
       "pages       -0.005824   0.001333  -4.369 1.69e-05 ***\n",
       "---\n",
       "Signif. codes:  0 ‘***’ 0.001 ‘**’ 0.01 ‘*’ 0.05 ‘.’ 0.1 ‘ ’ 1\n",
       "\n",
       "Residual standard error: 3.775 on 321 degrees of freedom\n",
       "Multiple R-squared:  0.9086,\tAdjusted R-squared:  0.908 \n",
       "F-statistic:  1595 on 2 and 321 DF,  p-value: < 2.2e-16\n"
      ]
     },
     "metadata": {},
     "output_type": "display_data"
    },
    {
     "data": {
      "text/html": [
       "0.907992167738236"
      ],
      "text/latex": [
       "0.907992167738236"
      ],
      "text/markdown": [
       "0.907992167738236"
      ],
      "text/plain": [
       "[1] 0.9079922"
      ]
     },
     "metadata": {},
     "output_type": "display_data"
    }
   ],
   "source": [
    "AIC.part = NA\n",
    "BIC.part = NA\n",
    "adj.R2.part = NA\n",
    "\n",
    "# your code here\n",
    "lmod.part = lm(aprice ~ lprice+pages, data = df)\n",
    "reg2=regsubsets(aprice ~ lprice+pages, data = df)\n",
    "rs2 = summary(reg2)\n",
    "#rs2$which\n",
    "AIC.part = AIC(lmod.part)#2*(2:3) + n* log(rs2$rss/n)\n",
    "BIC.part = BIC(lmod.part)#log(n)*(2:3) + n* log(rs2$rss/n)\n",
    "#AIC.part\n",
    "#BIC.part\n",
    "# AIC.part = 863.768401306743\n",
    "# BIC.part = 875.11063185412\n",
    "summary(lmod.part)\n",
    "adj.R2.part = summary(lmod.part)$adj.r.squared#0.908#summary(partial_model)$adj.r.squared\n",
    "adj.R2.part"
   ]
  },
  {
   "cell_type": "code",
   "execution_count": 9,
   "metadata": {
    "deletable": false,
    "editable": false,
    "nbgrader": {
     "cell_type": "code",
     "checksum": "8c4537af700433203ce9accdbacf1622",
     "grade": true,
     "grade_id": "cell-459282508ecfd8ae",
     "locked": true,
     "points": 5,
     "schema_version": 3,
     "solution": false,
     "task": false
    }
   },
   "outputs": [],
   "source": [
    "# Test Cell\n",
    "# This cell has hidden test cases that will run after submission."
   ]
  },
  {
   "cell_type": "code",
   "execution_count": 10,
   "metadata": {
    "deletable": false,
    "editable": false,
    "nbgrader": {
     "cell_type": "code",
     "checksum": "600ca4da56ba05922413150dd758338b",
     "grade": true,
     "grade_id": "cell-aa87e802b1e83306",
     "locked": true,
     "points": 5,
     "schema_version": 3,
     "solution": false,
     "task": false
    }
   },
   "outputs": [],
   "source": [
    "# Test Cell\n",
    "# This cell has hidden test cases that will run after submission."
   ]
  },
  {
   "cell_type": "code",
   "execution_count": 11,
   "metadata": {
    "deletable": false,
    "editable": false,
    "nbgrader": {
     "cell_type": "code",
     "checksum": "affdd7878eb3974363cdf4177116a430",
     "grade": true,
     "grade_id": "cell-1e60528fc2bc2409",
     "locked": true,
     "points": 6,
     "schema_version": 3,
     "solution": false,
     "task": false
    }
   },
   "outputs": [],
   "source": [
    "# Test Cell\n",
    "# This cell has hidden test cases that will run after submission."
   ]
  },
  {
   "cell_type": "markdown",
   "metadata": {
    "deletable": false,
    "editable": false,
    "nbgrader": {
     "cell_type": "markdown",
     "checksum": "2e4fea9575da16a868f9c3ca0ef6de56",
     "grade": false,
     "grade_id": "cell-33a2d5172bf5e191",
     "locked": true,
     "schema_version": 3,
     "solution": false,
     "task": false
    }
   },
   "source": [
    "### 1. (c) Model Selection (9 points)\n",
    "\n",
    "Which model is better, `lmod.full` or `lmod.part` according to AIC, BIC, and $R^2_a$? Note that the answer may or may not be different across the different criteria. Save your selections as `selected.model.AIC`, `selected.model.BIC`, and `selected.model.adj.R2`."
   ]
  },
  {
   "cell_type": "code",
   "execution_count": 12,
   "metadata": {
    "deletable": false,
    "nbgrader": {
     "cell_type": "code",
     "checksum": "d0100b1c4cd40bc2f993f9dfbf4164d3",
     "grade": false,
     "grade_id": "cell-be9c28ff95c8f889",
     "locked": false,
     "schema_version": 3,
     "solution": true,
     "task": false
    }
   },
   "outputs": [],
   "source": [
    "selected.model.AIC = NA\n",
    "selected.model.BIC = NA\n",
    "selected.model.adj.R2 = NA\n",
    "# your code here\n",
    "selected.model.AIC = lmod.full\n",
    "selected.model.BIC = lmod.part\n",
    "selected.model.adj.R2 = lmod.full"
   ]
  },
  {
   "cell_type": "code",
   "execution_count": 13,
   "metadata": {
    "deletable": false,
    "editable": false,
    "nbgrader": {
     "cell_type": "code",
     "checksum": "cd5e9e10f8e3ba53cd8c70ff1d328612",
     "grade": true,
     "grade_id": "cell-857ab58a12789785",
     "locked": true,
     "points": 3,
     "schema_version": 3,
     "solution": false,
     "task": false
    }
   },
   "outputs": [],
   "source": [
    "# Test Cell\n",
    "# This cell has hidden test cases that will run after submission."
   ]
  },
  {
   "cell_type": "code",
   "execution_count": 14,
   "metadata": {
    "deletable": false,
    "editable": false,
    "nbgrader": {
     "cell_type": "code",
     "checksum": "87681bfec8cdba6ec85927f3ad16781e",
     "grade": true,
     "grade_id": "cell-6fb1792ea48293a9",
     "locked": true,
     "points": 3,
     "schema_version": 3,
     "solution": false,
     "task": false
    }
   },
   "outputs": [],
   "source": [
    "# Test Cell\n",
    "# This cell has hidden test cases that will run after submission."
   ]
  },
  {
   "cell_type": "code",
   "execution_count": 15,
   "metadata": {
    "deletable": false,
    "editable": false,
    "nbgrader": {
     "cell_type": "code",
     "checksum": "5a5ff2dbc05c2fc76f176ba3e2e5e6e7",
     "grade": true,
     "grade_id": "cell-c1569a9de67e1814",
     "locked": true,
     "points": 3,
     "schema_version": 3,
     "solution": false,
     "task": false
    }
   },
   "outputs": [],
   "source": [
    "# Test Cell\n",
    "# This cell has hidden test cases that will run after submission."
   ]
  },
  {
   "cell_type": "markdown",
   "metadata": {
    "deletable": false,
    "editable": false,
    "nbgrader": {
     "cell_type": "markdown",
     "checksum": "9fa5156f27a837e970f7447e32cdb2f5",
     "grade": false,
     "grade_id": "cell-2353f829d40c1c18",
     "locked": true,
     "schema_version": 3,
     "solution": false,
     "task": false
    }
   },
   "source": [
    "### 1. (d) Model Validation (6 points)\n",
    "\n",
    "Recall that a simpler model may perform statistically worse than a larger model. Test whether there is a statistically significant difference between `lmod.part` and `lmod.full`. Based on the result of this test, what model should you use? Save your answer as `validated.model`."
   ]
  },
  {
   "cell_type": "code",
   "execution_count": 16,
   "metadata": {
    "deletable": false,
    "nbgrader": {
     "cell_type": "code",
     "checksum": "c94de1df07df81c172f5fa07fc4a8851",
     "grade": false,
     "grade_id": "cell-2867adca6b5a00d5",
     "locked": false,
     "schema_version": 3,
     "solution": true,
     "task": false
    }
   },
   "outputs": [],
   "source": [
    "validated.model = NA\n",
    "\n",
    "# your code here\n",
    "validated.model = lmod.full"
   ]
  },
  {
   "cell_type": "code",
   "execution_count": 17,
   "metadata": {
    "deletable": false,
    "editable": false,
    "nbgrader": {
     "cell_type": "code",
     "checksum": "76d8442747e8678e6fe5de0c5df07391",
     "grade": true,
     "grade_id": "cell-e5d91693e455c234",
     "locked": true,
     "points": 6,
     "schema_version": 3,
     "solution": false,
     "task": false
    }
   },
   "outputs": [],
   "source": [
    "# Test Cell\n",
    "# This cell has hidden test cases that will run after submission."
   ]
  },
  {
   "cell_type": "markdown",
   "metadata": {
    "deletable": false,
    "editable": false,
    "nbgrader": {
     "cell_type": "markdown",
     "checksum": "b596a026bf5e98ed0a3b47d133ef984e",
     "grade": false,
     "grade_id": "cell-56e4472fd47f4a3e",
     "locked": true,
     "schema_version": 3,
     "solution": false,
     "task": false
    }
   },
   "source": [
    "## Problem 2\n",
    "\n",
    "`divorce` is a data frame with 77 observations on the following 7 variables.\n",
    "\n",
    "1. `year`: the year from 1920-1996\n",
    "\n",
    "2. `divorce`: divorce per 1000 women aged 15 or more \n",
    "\n",
    "3. `unemployed` unemployment rate \n",
    "\n",
    "4. `femlab`: percent female participation in labor force aged 16+\n",
    "\n",
    "5. `marriage`: marriages per 1000 unmarried women aged 16+ \n",
    "\n",
    "6. `birth`: births per 1000 women aged 15-44 \n",
    "\n",
    "7. `military`: military personnel per 1000 population\n",
    "\n",
    "Here's the data:"
   ]
  },
  {
   "cell_type": "code",
   "execution_count": 18,
   "metadata": {
    "deletable": false,
    "editable": false,
    "nbgrader": {
     "cell_type": "code",
     "checksum": "a133653a92b256710083b43b623d5001",
     "grade": false,
     "grade_id": "cell-9b2945e2d8a15691",
     "locked": true,
     "schema_version": 3,
     "solution": false,
     "task": false
    }
   },
   "outputs": [
    {
     "data": {
      "text/plain": [
       "      year         divorce        unemployed         femlab     \n",
       " Min.   :1920   Min.   : 6.10   Min.   : 1.200   Min.   :22.70  \n",
       " 1st Qu.:1939   1st Qu.: 8.70   1st Qu.: 4.200   1st Qu.:27.47  \n",
       " Median :1958   Median :10.60   Median : 5.600   Median :37.10  \n",
       " Mean   :1958   Mean   :13.27   Mean   : 7.173   Mean   :38.58  \n",
       " 3rd Qu.:1977   3rd Qu.:20.30   3rd Qu.: 7.500   3rd Qu.:47.80  \n",
       " Max.   :1996   Max.   :22.80   Max.   :24.900   Max.   :59.30  \n",
       "    marriage          birth           military     \n",
       " Min.   : 49.70   Min.   : 65.30   Min.   : 1.940  \n",
       " 1st Qu.: 61.90   1st Qu.: 68.90   1st Qu.: 3.469  \n",
       " Median : 74.10   Median : 85.90   Median : 9.102  \n",
       " Mean   : 72.97   Mean   : 88.89   Mean   :12.365  \n",
       " 3rd Qu.: 80.00   3rd Qu.:107.30   3rd Qu.:14.266  \n",
       " Max.   :118.10   Max.   :122.90   Max.   :86.641  "
      ]
     },
     "metadata": {},
     "output_type": "display_data"
    },
    {
     "data": {
      "text/html": [
       "<table>\n",
       "<caption>A data.frame: 6 × 7</caption>\n",
       "<thead>\n",
       "\t<tr><th></th><th scope=col>year</th><th scope=col>divorce</th><th scope=col>unemployed</th><th scope=col>femlab</th><th scope=col>marriage</th><th scope=col>birth</th><th scope=col>military</th></tr>\n",
       "\t<tr><th></th><th scope=col>&lt;int&gt;</th><th scope=col>&lt;dbl&gt;</th><th scope=col>&lt;dbl&gt;</th><th scope=col>&lt;dbl&gt;</th><th scope=col>&lt;dbl&gt;</th><th scope=col>&lt;dbl&gt;</th><th scope=col>&lt;dbl&gt;</th></tr>\n",
       "</thead>\n",
       "<tbody>\n",
       "\t<tr><th scope=row>1</th><td>1920</td><td>8.0</td><td> 5.2</td><td>22.70</td><td>92.0</td><td>117.9</td><td>3.2247</td></tr>\n",
       "\t<tr><th scope=row>2</th><td>1921</td><td>7.2</td><td>11.7</td><td>22.79</td><td>83.0</td><td>119.8</td><td>3.5614</td></tr>\n",
       "\t<tr><th scope=row>3</th><td>1922</td><td>6.6</td><td> 6.7</td><td>22.88</td><td>79.7</td><td>111.2</td><td>2.4553</td></tr>\n",
       "\t<tr><th scope=row>4</th><td>1923</td><td>7.1</td><td> 2.4</td><td>22.97</td><td>85.2</td><td>110.5</td><td>2.2065</td></tr>\n",
       "\t<tr><th scope=row>5</th><td>1924</td><td>7.2</td><td> 5.0</td><td>23.06</td><td>80.3</td><td>110.9</td><td>2.2889</td></tr>\n",
       "\t<tr><th scope=row>6</th><td>1925</td><td>7.2</td><td> 3.2</td><td>23.15</td><td>79.2</td><td>106.6</td><td>2.1735</td></tr>\n",
       "</tbody>\n",
       "</table>\n"
      ],
      "text/latex": [
       "A data.frame: 6 × 7\n",
       "\\begin{tabular}{r|lllllll}\n",
       "  & year & divorce & unemployed & femlab & marriage & birth & military\\\\\n",
       "  & <int> & <dbl> & <dbl> & <dbl> & <dbl> & <dbl> & <dbl>\\\\\n",
       "\\hline\n",
       "\t1 & 1920 & 8.0 &  5.2 & 22.70 & 92.0 & 117.9 & 3.2247\\\\\n",
       "\t2 & 1921 & 7.2 & 11.7 & 22.79 & 83.0 & 119.8 & 3.5614\\\\\n",
       "\t3 & 1922 & 6.6 &  6.7 & 22.88 & 79.7 & 111.2 & 2.4553\\\\\n",
       "\t4 & 1923 & 7.1 &  2.4 & 22.97 & 85.2 & 110.5 & 2.2065\\\\\n",
       "\t5 & 1924 & 7.2 &  5.0 & 23.06 & 80.3 & 110.9 & 2.2889\\\\\n",
       "\t6 & 1925 & 7.2 &  3.2 & 23.15 & 79.2 & 106.6 & 2.1735\\\\\n",
       "\\end{tabular}\n"
      ],
      "text/markdown": [
       "\n",
       "A data.frame: 6 × 7\n",
       "\n",
       "| <!--/--> | year &lt;int&gt; | divorce &lt;dbl&gt; | unemployed &lt;dbl&gt; | femlab &lt;dbl&gt; | marriage &lt;dbl&gt; | birth &lt;dbl&gt; | military &lt;dbl&gt; |\n",
       "|---|---|---|---|---|---|---|---|\n",
       "| 1 | 1920 | 8.0 |  5.2 | 22.70 | 92.0 | 117.9 | 3.2247 |\n",
       "| 2 | 1921 | 7.2 | 11.7 | 22.79 | 83.0 | 119.8 | 3.5614 |\n",
       "| 3 | 1922 | 6.6 |  6.7 | 22.88 | 79.7 | 111.2 | 2.4553 |\n",
       "| 4 | 1923 | 7.1 |  2.4 | 22.97 | 85.2 | 110.5 | 2.2065 |\n",
       "| 5 | 1924 | 7.2 |  5.0 | 23.06 | 80.3 | 110.9 | 2.2889 |\n",
       "| 6 | 1925 | 7.2 |  3.2 | 23.15 | 79.2 | 106.6 | 2.1735 |\n",
       "\n"
      ],
      "text/plain": [
       "  year divorce unemployed femlab marriage birth military\n",
       "1 1920 8.0      5.2       22.70  92.0     117.9 3.2247  \n",
       "2 1921 7.2     11.7       22.79  83.0     119.8 3.5614  \n",
       "3 1922 6.6      6.7       22.88  79.7     111.2 2.4553  \n",
       "4 1923 7.1      2.4       22.97  85.2     110.5 2.2065  \n",
       "5 1924 7.2      5.0       23.06  80.3     110.9 2.2889  \n",
       "6 1925 7.2      3.2       23.15  79.2     106.6 2.1735  "
      ]
     },
     "metadata": {},
     "output_type": "display_data"
    }
   ],
   "source": [
    "# Load in the data\n",
    "divorce = read.csv(\"divusa.txt\", sep=\"\\t\")\n",
    "summary(divorce)\n",
    "head(divorce)"
   ]
  },
  {
   "cell_type": "markdown",
   "metadata": {
    "deletable": false,
    "editable": false,
    "nbgrader": {
     "cell_type": "markdown",
     "checksum": "0a43f5dee4541c0a83b18b0bab80b7f5",
     "grade": false,
     "grade_id": "cell-96dd4285a9267ea8",
     "locked": true,
     "schema_version": 3,
     "solution": false,
     "task": false
    }
   },
   "source": [
    "### 2 (a) (10 points) \n",
    "\n",
    "Using the `divorce` data, with `divorce` as the response and all other variables as predictors, select the \"best\" regression model, where \"best\" is defined using AIC. Save your final model as `lm_divorce`.**"
   ]
  },
  {
   "cell_type": "code",
   "execution_count": 19,
   "metadata": {
    "deletable": false,
    "nbgrader": {
     "cell_type": "code",
     "checksum": "c360938b03ae5fec5f1bea1354f3bfe5",
     "grade": false,
     "grade_id": "cell-26c07cf4e4547d9d",
     "locked": false,
     "schema_version": 3,
     "solution": true,
     "task": false
    }
   },
   "outputs": [
    {
     "data": {
      "text/html": [
       "<table>\n",
       "<caption>A matrix: 6 × 7 of type lgl</caption>\n",
       "<thead>\n",
       "\t<tr><th></th><th scope=col>(Intercept)</th><th scope=col>year</th><th scope=col>unemployed</th><th scope=col>femlab</th><th scope=col>marriage</th><th scope=col>birth</th><th scope=col>military</th></tr>\n",
       "</thead>\n",
       "<tbody>\n",
       "\t<tr><th scope=row>1</th><td>TRUE</td><td>FALSE</td><td>FALSE</td><td>TRUE</td><td>FALSE</td><td>FALSE</td><td>FALSE</td></tr>\n",
       "\t<tr><th scope=row>2</th><td>TRUE</td><td>FALSE</td><td>FALSE</td><td>TRUE</td><td>FALSE</td><td> TRUE</td><td>FALSE</td></tr>\n",
       "\t<tr><th scope=row>3</th><td>TRUE</td><td>FALSE</td><td>FALSE</td><td>TRUE</td><td> TRUE</td><td> TRUE</td><td>FALSE</td></tr>\n",
       "\t<tr><th scope=row>4</th><td>TRUE</td><td> TRUE</td><td>FALSE</td><td>TRUE</td><td> TRUE</td><td> TRUE</td><td>FALSE</td></tr>\n",
       "\t<tr><th scope=row>5</th><td>TRUE</td><td> TRUE</td><td>FALSE</td><td>TRUE</td><td> TRUE</td><td> TRUE</td><td> TRUE</td></tr>\n",
       "\t<tr><th scope=row>6</th><td>TRUE</td><td> TRUE</td><td> TRUE</td><td>TRUE</td><td> TRUE</td><td> TRUE</td><td> TRUE</td></tr>\n",
       "</tbody>\n",
       "</table>\n"
      ],
      "text/latex": [
       "A matrix: 6 × 7 of type lgl\n",
       "\\begin{tabular}{r|lllllll}\n",
       "  & (Intercept) & year & unemployed & femlab & marriage & birth & military\\\\\n",
       "\\hline\n",
       "\t1 & TRUE & FALSE & FALSE & TRUE & FALSE & FALSE & FALSE\\\\\n",
       "\t2 & TRUE & FALSE & FALSE & TRUE & FALSE &  TRUE & FALSE\\\\\n",
       "\t3 & TRUE & FALSE & FALSE & TRUE &  TRUE &  TRUE & FALSE\\\\\n",
       "\t4 & TRUE &  TRUE & FALSE & TRUE &  TRUE &  TRUE & FALSE\\\\\n",
       "\t5 & TRUE &  TRUE & FALSE & TRUE &  TRUE &  TRUE &  TRUE\\\\\n",
       "\t6 & TRUE &  TRUE &  TRUE & TRUE &  TRUE &  TRUE &  TRUE\\\\\n",
       "\\end{tabular}\n"
      ],
      "text/markdown": [
       "\n",
       "A matrix: 6 × 7 of type lgl\n",
       "\n",
       "| <!--/--> | (Intercept) | year | unemployed | femlab | marriage | birth | military |\n",
       "|---|---|---|---|---|---|---|---|\n",
       "| 1 | TRUE | FALSE | FALSE | TRUE | FALSE | FALSE | FALSE |\n",
       "| 2 | TRUE | FALSE | FALSE | TRUE | FALSE |  TRUE | FALSE |\n",
       "| 3 | TRUE | FALSE | FALSE | TRUE |  TRUE |  TRUE | FALSE |\n",
       "| 4 | TRUE |  TRUE | FALSE | TRUE |  TRUE |  TRUE | FALSE |\n",
       "| 5 | TRUE |  TRUE | FALSE | TRUE |  TRUE |  TRUE |  TRUE |\n",
       "| 6 | TRUE |  TRUE |  TRUE | TRUE |  TRUE |  TRUE |  TRUE |\n",
       "\n"
      ],
      "text/plain": [
       "  (Intercept) year  unemployed femlab marriage birth military\n",
       "1 TRUE        FALSE FALSE      TRUE   FALSE    FALSE FALSE   \n",
       "2 TRUE        FALSE FALSE      TRUE   FALSE     TRUE FALSE   \n",
       "3 TRUE        FALSE FALSE      TRUE    TRUE     TRUE FALSE   \n",
       "4 TRUE         TRUE FALSE      TRUE    TRUE     TRUE FALSE   \n",
       "5 TRUE         TRUE FALSE      TRUE    TRUE     TRUE  TRUE   \n",
       "6 TRUE         TRUE  TRUE      TRUE    TRUE     TRUE  TRUE   "
      ]
     },
     "metadata": {},
     "output_type": "display_data"
    },
    {
     "data": {
      "text/html": [
       "<style>\n",
       ".list-inline {list-style: none; margin:0; padding: 0}\n",
       ".list-inline>li {display: inline-block}\n",
       ".list-inline>li:not(:last-child)::after {content: \"\\00b7\"; padding: 0 .5ex}\n",
       "</style>\n",
       "<ol class=list-inline><li>134.278386189223</li><li>111.833826327217</li><li>85.1959268197221</li><li>76.6910086147715</li><li>69.3302671791778</li><li>70.4103394869251</li></ol>\n"
      ],
      "text/latex": [
       "\\begin{enumerate*}\n",
       "\\item 134.278386189223\n",
       "\\item 111.833826327217\n",
       "\\item 85.1959268197221\n",
       "\\item 76.6910086147715\n",
       "\\item 69.3302671791778\n",
       "\\item 70.4103394869251\n",
       "\\end{enumerate*}\n"
      ],
      "text/markdown": [
       "1. 134.278386189223\n",
       "2. 111.833826327217\n",
       "3. 85.1959268197221\n",
       "4. 76.6910086147715\n",
       "5. 69.3302671791778\n",
       "6. 70.4103394869251\n",
       "\n",
       "\n"
      ],
      "text/plain": [
       "[1] 134.27839 111.83383  85.19593  76.69101  69.33027  70.41034"
      ]
     },
     "metadata": {},
     "output_type": "display_data"
    }
   ],
   "source": [
    "lm_divorce = NA\n",
    "\n",
    "# your code here\n",
    "#divorce_model = lm(divorce~year+unemployed+femlab+marriage+birth+military, data = divorce)\n",
    "n = dim(divorce)[1]\n",
    "reg3=regsubsets(divorce~year+unemployed+femlab+marriage+birth+military, data = divorce)\n",
    "rs3 = summary(reg3)\n",
    "rs3$which\n",
    "AIC.divorce = 2*(2:7) + n* log(rs3$rss/n)\n",
    "AIC.divorce\n",
    "lm_divorce = lm(divorce~year+femlab+marriage+birth+military, data = divorce)"
   ]
  },
  {
   "cell_type": "code",
   "execution_count": 20,
   "metadata": {
    "deletable": false,
    "editable": false,
    "nbgrader": {
     "cell_type": "code",
     "checksum": "c807df6394d80252b5cc981cc805cdda",
     "grade": true,
     "grade_id": "cell-83d568c2432e15d1",
     "locked": true,
     "points": 10,
     "schema_version": 3,
     "solution": false,
     "task": false
    }
   },
   "outputs": [],
   "source": [
    "# Test Cell\n",
    "# This cell has hidden test cases that will run after submission."
   ]
  },
  {
   "cell_type": "markdown",
   "metadata": {
    "deletable": false,
    "editable": false,
    "nbgrader": {
     "cell_type": "markdown",
     "checksum": "60221fa75c7e799928346bb897a752de",
     "grade": false,
     "grade_id": "cell-d1a2bcd1aec686d9",
     "locked": true,
     "schema_version": 3,
     "solution": false,
     "task": false
    }
   },
   "source": [
    "### 2 (b) (10 points) \n",
    "\n",
    "Using your model from part (a), compute the variance inflation factors VIFs for each $\\widehat\\beta_j$, $j = 1,...,p$. Store them in the variable `v`. Also, compute the condition number for the design matrix, stored in `k`. If using the `kappa()` function, you might need to specify `exact = TRUE`. Is there evidence that collinearity causes some predictors not to be significant?"
   ]
  },
  {
   "cell_type": "code",
   "execution_count": 27,
   "metadata": {
    "deletable": false,
    "nbgrader": {
     "cell_type": "code",
     "checksum": "5691802daced999f330d9935e55f3146",
     "grade": false,
     "grade_id": "cell-7dba890a66daad63",
     "locked": false,
     "schema_version": 3,
     "solution": true,
     "task": false
    }
   },
   "outputs": [
    {
     "data": {
      "text/html": [
       "<style>\n",
       ".dl-inline {width: auto; margin:0; padding: 0}\n",
       ".dl-inline>dt, .dl-inline>dd {float: none; width: auto; display: inline-block}\n",
       ".dl-inline>dt::after {content: \":\\0020\"; padding-right: .5ex}\n",
       ".dl-inline>dt:not(:first-of-type) {padding-left: .5ex}\n",
       "</style><dl class=dl-inline><dt>year</dt><dd>42.9482669472054</dd><dt>femlab</dt><dd>48.6509347631077</dd><dt>marriage</dt><dd>2.62453070971822</dd><dt>birth</dt><dd>2.03167683563951</dd><dt>military</dt><dd>1.35800179637071</dd></dl>\n"
      ],
      "text/latex": [
       "\\begin{description*}\n",
       "\\item[year] 42.9482669472054\n",
       "\\item[femlab] 48.6509347631077\n",
       "\\item[marriage] 2.62453070971822\n",
       "\\item[birth] 2.03167683563951\n",
       "\\item[military] 1.35800179637071\n",
       "\\end{description*}\n"
      ],
      "text/markdown": [
       "year\n",
       ":   42.9482669472054femlab\n",
       ":   48.6509347631077marriage\n",
       ":   2.62453070971822birth\n",
       ":   2.03167683563951military\n",
       ":   1.35800179637071\n",
       "\n"
      ],
      "text/plain": [
       "     year    femlab  marriage     birth  military \n",
       "42.948267 48.650935  2.624531  2.031677  1.358002 "
      ]
     },
     "metadata": {},
     "output_type": "display_data"
    },
    {
     "data": {
      "text/html": [
       "1083823.31588993"
      ],
      "text/latex": [
       "1083823.31588993"
      ],
      "text/markdown": [
       "1083823.31588993"
      ],
      "text/plain": [
       "[1] 1083823"
      ]
     },
     "metadata": {},
     "output_type": "display_data"
    }
   ],
   "source": [
    "# your code here\n",
    "vif(lm_divorce)\n",
    "v = c(42.9482669472054, 48.6509347631077, 2.62453070971822, 2.03167683563951, 1.35800179637071)\n",
    "k = kappa(lm_divorce, exact = TRUE)\n",
    "k"
   ]
  },
  {
   "cell_type": "code",
   "execution_count": 22,
   "metadata": {
    "deletable": false,
    "editable": false,
    "nbgrader": {
     "cell_type": "code",
     "checksum": "239ae64f28629670661966dd5750866c",
     "grade": true,
     "grade_id": "cell-3044dbc9979b7358",
     "locked": true,
     "points": 10,
     "schema_version": 3,
     "solution": false,
     "task": false
    }
   },
   "outputs": [],
   "source": [
    "# Test Cell\n",
    "# This cell has hidden test cases that will run after submission."
   ]
  },
  {
   "cell_type": "markdown",
   "metadata": {
    "deletable": false,
    "editable": false,
    "nbgrader": {
     "cell_type": "markdown",
     "checksum": "2b49f2a48d192324e661d1ee789352a9",
     "grade": false,
     "grade_id": "cell-48883b2b9186c261",
     "locked": true,
     "schema_version": 3,
     "solution": false,
     "task": false
    }
   },
   "source": [
    "### 2. (c) (5 points) \n",
    "\n",
    "Remove the predictor with the highest VIF. Is multicollinearity still present in the model? If yes, store `TRUE` in `prob.2.c`, and `FALSE` otherwise."
   ]
  },
  {
   "cell_type": "code",
   "execution_count": 23,
   "metadata": {
    "deletable": false,
    "nbgrader": {
     "cell_type": "code",
     "checksum": "125294258f15a1678d71f84f71934d1e",
     "grade": false,
     "grade_id": "cell-58410fcc06d1f35a",
     "locked": false,
     "schema_version": 3,
     "solution": true,
     "task": false
    }
   },
   "outputs": [],
   "source": [
    "prob.2.c = NA\n",
    "\n",
    "# your code here\n",
    "new_lm_divorce_model = lm(divorce~year+unemployed+marriage+birth+military, data = divorce)\n",
    "prob.2.c = TRUE"
   ]
  },
  {
   "cell_type": "code",
   "execution_count": 24,
   "metadata": {
    "deletable": false,
    "editable": false,
    "nbgrader": {
     "cell_type": "code",
     "checksum": "d69a82e44774425c5d61eb82cd318a61",
     "grade": true,
     "grade_id": "cell-be14e8e33f94fc16",
     "locked": true,
     "points": 5,
     "schema_version": 3,
     "solution": false,
     "task": false
    }
   },
   "outputs": [],
   "source": [
    "# Test Cell\n",
    "# This cell has hidden test cases that will run after submission."
   ]
  }
 ],
 "metadata": {
  "kernelspec": {
   "display_name": "R",
   "language": "R",
   "name": "ir"
  },
  "language_info": {
   "codemirror_mode": "r",
   "file_extension": ".r",
   "mimetype": "text/x-r-source",
   "name": "R",
   "pygments_lexer": "r",
   "version": "3.6.3"
  }
 },
 "nbformat": 4,
 "nbformat_minor": 4
}
