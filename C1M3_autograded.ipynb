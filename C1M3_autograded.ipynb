{
 "cells": [
  {
   "cell_type": "markdown",
   "metadata": {
    "deletable": false,
    "editable": false,
    "nbgrader": {
     "cell_type": "markdown",
     "checksum": "761063bac57eb0ce2c8947a6ae38aa67",
     "grade": false,
     "grade_id": "cell-b0678bc2ade938c4",
     "locked": true,
     "schema_version": 3,
     "solution": false,
     "task": false
    }
   },
   "source": [
    "# Module 3 - Autograded Assignment"
   ]
  },
  {
   "cell_type": "markdown",
   "metadata": {
    "deletable": false,
    "editable": false,
    "nbgrader": {
     "cell_type": "markdown",
     "checksum": "9c6bcda2d4ce939b88ed04a1817c2c12",
     "grade": false,
     "grade_id": "cell-1a745cbf4489d831",
     "locked": true,
     "schema_version": 3,
     "solution": false,
     "task": false
    }
   },
   "source": [
    "### Outline:\n",
    "**Here are the objectives of this assignment:**\n",
    "\n",
    "1. Utilize F-tests to distinguish between statistically different models.\n",
    "2. Calculate Confidence Intervals for feature parameters to understand their variability.\n",
    "3. Reinforce an understanding of Confidence Intervals by comparing many different CIs from the same underlying population.\n",
    "4. Improve general familiarity with R, including utilizing data frames and ggplot.\n",
    "\n",
    "**Here are some general tips:**\n",
    "\n",
    "1. Read the questions carefully to understand what is being asked.\n",
    "2. When you feel that your work is completed, feel free to hit the ```Validate``` button to see your results on the *visible* unit tests. If you have questions about unit testing, please refer to the \"Module 0: Introduction\" notebook provided as an optional resource for this course. In this assignment, there are hidden unit tests that check your code. You will not recieve any feedback for failed hidden unit tests until the assignment is submitted. **Do not misinterpret the feedback from visible unit tests as all possible tests for a given question--write your code carefully!**\n",
    "3. Before submitting, we recommend restarting the kernel and running all the cells in order that they appear to make sure that there are no additional bugs in your code.\n",
    "4. There are 50 points total in this assignment."
   ]
  },
  {
   "cell_type": "code",
   "execution_count": 1,
   "metadata": {
    "deletable": false,
    "editable": false,
    "nbgrader": {
     "cell_type": "code",
     "checksum": "61976035999845ba5dc73e368bdaaee2",
     "grade": false,
     "grade_id": "cell-ac1dc753013a8391",
     "locked": true,
     "schema_version": 3,
     "solution": false,
     "task": false
    }
   },
   "outputs": [
    {
     "name": "stdout",
     "output_type": "stream",
     "text": [
      "Error in get(genname, envir = envir) : object 'testthat_print' not found\n"
     ]
    },
    {
     "name": "stderr",
     "output_type": "stream",
     "text": [
      "── \u001b[1mAttaching packages\u001b[22m ─────────────────────────────────────── tidyverse 1.3.0 ──\n",
      "\n",
      "\u001b[32m✔\u001b[39m \u001b[34mggplot2\u001b[39m 3.3.0     \u001b[32m✔\u001b[39m \u001b[34mpurrr  \u001b[39m 0.3.4\n",
      "\u001b[32m✔\u001b[39m \u001b[34mtibble \u001b[39m 3.0.1     \u001b[32m✔\u001b[39m \u001b[34mdplyr  \u001b[39m 0.8.5\n",
      "\u001b[32m✔\u001b[39m \u001b[34mtidyr  \u001b[39m 1.0.2     \u001b[32m✔\u001b[39m \u001b[34mstringr\u001b[39m 1.4.0\n",
      "\u001b[32m✔\u001b[39m \u001b[34mreadr  \u001b[39m 1.3.1     \u001b[32m✔\u001b[39m \u001b[34mforcats\u001b[39m 0.5.0\n",
      "\n",
      "── \u001b[1mConflicts\u001b[22m ────────────────────────────────────────── tidyverse_conflicts() ──\n",
      "\u001b[31m✖\u001b[39m \u001b[34mdplyr\u001b[39m::\u001b[32mfilter()\u001b[39m  masks \u001b[34mstats\u001b[39m::filter()\n",
      "\u001b[31m✖\u001b[39m \u001b[34mpurrr\u001b[39m::\u001b[32mis_null()\u001b[39m masks \u001b[34mtestthat\u001b[39m::is_null()\n",
      "\u001b[31m✖\u001b[39m \u001b[34mdplyr\u001b[39m::\u001b[32mlag()\u001b[39m     masks \u001b[34mstats\u001b[39m::lag()\n",
      "\u001b[31m✖\u001b[39m \u001b[34mdplyr\u001b[39m::\u001b[32mmatches()\u001b[39m masks \u001b[34mtidyr\u001b[39m::matches(), \u001b[34mtestthat\u001b[39m::matches()\n",
      "\n",
      "\n",
      "Attaching package: ‘RCurl’\n",
      "\n",
      "\n",
      "The following object is masked from ‘package:tidyr’:\n",
      "\n",
      "    complete\n",
      "\n",
      "\n"
     ]
    }
   ],
   "source": [
    "# This cell loads the necesary libraries for this assignment\n",
    "library(testthat)\n",
    "library(tidyverse)\n",
    "library(RCurl)  # a package that includes the function getURL(), which allows for reading data from github.\n",
    "library(ggplot2)"
   ]
  },
  {
   "cell_type": "markdown",
   "metadata": {
    "deletable": false,
    "editable": false,
    "nbgrader": {
     "cell_type": "markdown",
     "checksum": "2720e1dcfd363273e0e0c613d3d2ac16",
     "grade": false,
     "grade_id": "cell-fa86438d7bacf1bf",
     "locked": true,
     "schema_version": 3,
     "solution": false,
     "task": false
    }
   },
   "source": [
    "# Problem 1: Comparing Models \n",
    "\n",
    "In this exercise, we will fit multiple different models to the same data and determine which of those models we should ultimately use.\n",
    "\n",
    "The data we will be using is the Auto MPG Data Set from the UCI Machine Learning Repository. It contains technical specifications and performance ratings of many different cars. We will focus on the features that impact the overall `mpg` of each car.\n",
    "\n",
    "In the cell below, code is provided for you to load in the data and rename the columns to be more specific."
   ]
  },
  {
   "cell_type": "code",
   "execution_count": 2,
   "metadata": {
    "deletable": false,
    "editable": false,
    "nbgrader": {
     "cell_type": "code",
     "checksum": "552d10f50b2bbec075a2da4cb1c333df",
     "grade": false,
     "grade_id": "cell-05593d2f7383983e",
     "locked": true,
     "schema_version": 3,
     "solution": false,
     "task": false
    }
   },
   "outputs": [
    {
     "name": "stderr",
     "output_type": "stream",
     "text": [
      "Parsed with column specification:\n",
      "cols(\n",
      "  `18.0` = \u001b[32mcol_double()\u001b[39m,\n",
      "  `8` = \u001b[32mcol_double()\u001b[39m,\n",
      "  `307.0` = \u001b[32mcol_double()\u001b[39m,\n",
      "  `130.0` = \u001b[31mcol_character()\u001b[39m,\n",
      "  `3504.` = \u001b[32mcol_double()\u001b[39m,\n",
      "  `12.0` = \u001b[32mcol_double()\u001b[39m,\n",
      "  `70` = \u001b[32mcol_double()\u001b[39m,\n",
      "  `1` = \u001b[32mcol_double()\u001b[39m,\n",
      "  `\"chevrolet chevelle malibu\"` = \u001b[31mcol_character()\u001b[39m\n",
      ")\n",
      "\n",
      "Warning message in eval(expr, envir, enclos):\n",
      "“NAs introduced by coercion”\n"
     ]
    },
    {
     "data": {
      "text/plain": [
       "      mpg          cylinders      displacement     horsepower        weight    \n",
       " Min.   : 9.00   Min.   :3.000   Min.   : 68.0   Min.   : 46.0   Min.   :1613  \n",
       " 1st Qu.:17.00   1st Qu.:4.000   1st Qu.:105.0   1st Qu.: 75.0   1st Qu.:2224  \n",
       " Median :23.00   Median :4.000   Median :151.0   Median : 93.0   Median :2800  \n",
       " Mean   :23.46   Mean   :5.465   Mean   :194.1   Mean   :104.4   Mean   :2976  \n",
       " 3rd Qu.:29.00   3rd Qu.:8.000   3rd Qu.:264.5   3rd Qu.:125.0   3rd Qu.:3616  \n",
       " Max.   :46.60   Max.   :8.000   Max.   :455.0   Max.   :230.0   Max.   :5140  \n",
       "     accel         model_year        origin        car_name        \n",
       " Min.   : 8.00   Min.   :70.00   Min.   :1.000   Length:391        \n",
       " 1st Qu.:13.80   1st Qu.:73.00   1st Qu.:1.000   Class :character  \n",
       " Median :15.50   Median :76.00   Median :1.000   Mode  :character  \n",
       " Mean   :15.55   Mean   :75.99   Mean   :1.578                     \n",
       " 3rd Qu.:17.05   3rd Qu.:79.00   3rd Qu.:2.000                     \n",
       " Max.   :24.80   Max.   :82.00   Max.   :3.000                     "
      ]
     },
     "metadata": {},
     "output_type": "display_data"
    },
    {
     "name": "stdout",
     "output_type": "stream",
     "text": [
      "tibble [391 × 9] (S3: tbl_df/tbl/data.frame)\n",
      " $ mpg         : num [1:391] 15 18 16 17 15 14 14 14 15 15 ...\n",
      " $ cylinders   : num [1:391] 8 8 8 8 8 8 8 8 8 8 ...\n",
      " $ displacement: num [1:391] 350 318 304 302 429 454 440 455 390 383 ...\n",
      " $ horsepower  : num [1:391] 165 150 150 140 198 220 215 225 190 170 ...\n",
      " $ weight      : num [1:391] 3693 3436 3433 3449 4341 ...\n",
      " $ accel       : num [1:391] 11.5 11 12 10.5 10 9 8.5 10 8.5 10 ...\n",
      " $ model_year  : num [1:391] 70 70 70 70 70 70 70 70 70 70 ...\n",
      " $ origin      : num [1:391] 1 1 1 1 1 1 1 1 1 1 ...\n",
      " $ car_name    : chr [1:391] \"\\\"buick skylark 320\\\"\" \"\\\"plymouth satellite\\\"\" \"\\\"amc rebel sst\\\"\" \"\\\"ford torino\\\"\" ...\n",
      " - attr(*, \"na.action\")= 'omit' Named int [1:6] 32 126 330 336 354 374\n",
      "  ..- attr(*, \"names\")= chr [1:6] \"32\" \"126\" \"330\" \"336\" ...\n"
     ]
    },
    {
     "data": {
      "text/html": [
       "<table>\n",
       "<caption>A tibble: 6 × 9</caption>\n",
       "<thead>\n",
       "\t<tr><th scope=col>mpg</th><th scope=col>cylinders</th><th scope=col>displacement</th><th scope=col>horsepower</th><th scope=col>weight</th><th scope=col>accel</th><th scope=col>model_year</th><th scope=col>origin</th><th scope=col>car_name</th></tr>\n",
       "\t<tr><th scope=col>&lt;dbl&gt;</th><th scope=col>&lt;dbl&gt;</th><th scope=col>&lt;dbl&gt;</th><th scope=col>&lt;dbl&gt;</th><th scope=col>&lt;dbl&gt;</th><th scope=col>&lt;dbl&gt;</th><th scope=col>&lt;dbl&gt;</th><th scope=col>&lt;dbl&gt;</th><th scope=col>&lt;chr&gt;</th></tr>\n",
       "</thead>\n",
       "<tbody>\n",
       "\t<tr><td>15</td><td>8</td><td>350</td><td>165</td><td>3693</td><td>11.5</td><td>70</td><td>1</td><td>\"buick skylark 320\" </td></tr>\n",
       "\t<tr><td>18</td><td>8</td><td>318</td><td>150</td><td>3436</td><td>11.0</td><td>70</td><td>1</td><td>\"plymouth satellite\"</td></tr>\n",
       "\t<tr><td>16</td><td>8</td><td>304</td><td>150</td><td>3433</td><td>12.0</td><td>70</td><td>1</td><td>\"amc rebel sst\"     </td></tr>\n",
       "\t<tr><td>17</td><td>8</td><td>302</td><td>140</td><td>3449</td><td>10.5</td><td>70</td><td>1</td><td>\"ford torino\"       </td></tr>\n",
       "\t<tr><td>15</td><td>8</td><td>429</td><td>198</td><td>4341</td><td>10.0</td><td>70</td><td>1</td><td>\"ford galaxie 500\"  </td></tr>\n",
       "\t<tr><td>14</td><td>8</td><td>454</td><td>220</td><td>4354</td><td> 9.0</td><td>70</td><td>1</td><td>\"chevrolet impala\"  </td></tr>\n",
       "</tbody>\n",
       "</table>\n"
      ],
      "text/latex": [
       "A tibble: 6 × 9\n",
       "\\begin{tabular}{lllllllll}\n",
       " mpg & cylinders & displacement & horsepower & weight & accel & model\\_year & origin & car\\_name\\\\\n",
       " <dbl> & <dbl> & <dbl> & <dbl> & <dbl> & <dbl> & <dbl> & <dbl> & <chr>\\\\\n",
       "\\hline\n",
       "\t 15 & 8 & 350 & 165 & 3693 & 11.5 & 70 & 1 & \"buick skylark 320\" \\\\\n",
       "\t 18 & 8 & 318 & 150 & 3436 & 11.0 & 70 & 1 & \"plymouth satellite\"\\\\\n",
       "\t 16 & 8 & 304 & 150 & 3433 & 12.0 & 70 & 1 & \"amc rebel sst\"     \\\\\n",
       "\t 17 & 8 & 302 & 140 & 3449 & 10.5 & 70 & 1 & \"ford torino\"       \\\\\n",
       "\t 15 & 8 & 429 & 198 & 4341 & 10.0 & 70 & 1 & \"ford galaxie 500\"  \\\\\n",
       "\t 14 & 8 & 454 & 220 & 4354 &  9.0 & 70 & 1 & \"chevrolet impala\"  \\\\\n",
       "\\end{tabular}\n"
      ],
      "text/markdown": [
       "\n",
       "A tibble: 6 × 9\n",
       "\n",
       "| mpg &lt;dbl&gt; | cylinders &lt;dbl&gt; | displacement &lt;dbl&gt; | horsepower &lt;dbl&gt; | weight &lt;dbl&gt; | accel &lt;dbl&gt; | model_year &lt;dbl&gt; | origin &lt;dbl&gt; | car_name &lt;chr&gt; |\n",
       "|---|---|---|---|---|---|---|---|---|\n",
       "| 15 | 8 | 350 | 165 | 3693 | 11.5 | 70 | 1 | \"buick skylark 320\"  |\n",
       "| 18 | 8 | 318 | 150 | 3436 | 11.0 | 70 | 1 | \"plymouth satellite\" |\n",
       "| 16 | 8 | 304 | 150 | 3433 | 12.0 | 70 | 1 | \"amc rebel sst\"      |\n",
       "| 17 | 8 | 302 | 140 | 3449 | 10.5 | 70 | 1 | \"ford torino\"        |\n",
       "| 15 | 8 | 429 | 198 | 4341 | 10.0 | 70 | 1 | \"ford galaxie 500\"   |\n",
       "| 14 | 8 | 454 | 220 | 4354 |  9.0 | 70 | 1 | \"chevrolet impala\"   |\n",
       "\n"
      ],
      "text/plain": [
       "  mpg cylinders displacement horsepower weight accel model_year origin\n",
       "1 15  8         350          165        3693   11.5  70         1     \n",
       "2 18  8         318          150        3436   11.0  70         1     \n",
       "3 16  8         304          150        3433   12.0  70         1     \n",
       "4 17  8         302          140        3449   10.5  70         1     \n",
       "5 15  8         429          198        4341   10.0  70         1     \n",
       "6 14  8         454          220        4354    9.0  70         1     \n",
       "  car_name            \n",
       "1 \"buick skylark 320\" \n",
       "2 \"plymouth satellite\"\n",
       "3 \"amc rebel sst\"     \n",
       "4 \"ford torino\"       \n",
       "5 \"ford galaxie 500\"  \n",
       "6 \"chevrolet impala\"  "
      ]
     },
     "metadata": {},
     "output_type": "display_data"
    }
   ],
   "source": [
    "mpg.data = read_table(\"auto-mpg.data\")\n",
    "names(mpg.data) = c(\"mpg\", \"cylinders\", \"displacement\", \"horsepower\", \"weight\", \n",
    "                    \"accel\", \"model_year\", \"origin\", \"car_name\")\n",
    "mpg.data$horsepower = as.numeric(mpg.data$horsepower)\n",
    "mpg.data = na.omit(mpg.data)\n",
    "\n",
    "summary(mpg.data)\n",
    "str(mpg.data)\n",
    "head(mpg.data)"
   ]
  },
  {
   "cell_type": "markdown",
   "metadata": {
    "deletable": false,
    "editable": false,
    "nbgrader": {
     "cell_type": "markdown",
     "checksum": "73e43f9fceffd6824505dd99f1c95377",
     "grade": false,
     "grade_id": "cell-7657834bf882281a",
     "locked": true,
     "schema_version": 3,
     "solution": false,
     "task": false
    }
   },
   "source": [
    "#### 1. (a) Three Different Models (5 points)\n",
    "\n",
    "We will fit three different models to this data:\n",
    "\n",
    "1. `mod.1`: Fits `mpg` as the response with `weight` as the predictor.\n",
    "2. `mod.2`: Fits `mpg` as the response with `weight` and `accel` as predictors.\n",
    "3. `mod.3`: Fits `mpg` as the response with `weight`, `accel` and `horsepower` as predictors.\n",
    "\n",
    "Fit these models in the cell below."
   ]
  },
  {
   "cell_type": "code",
   "execution_count": 3,
   "metadata": {
    "deletable": false,
    "nbgrader": {
     "cell_type": "code",
     "checksum": "cc05c6755177db24e1d2a9a98fddf6e6",
     "grade": false,
     "grade_id": "cell-0364ff2727567909",
     "locked": false,
     "schema_version": 3,
     "solution": true,
     "task": false
    }
   },
   "outputs": [],
   "source": [
    "mod.1 = NA\n",
    "mod.2 = NA\n",
    "mod.3 = NA\n",
    "# your code here\n",
    "mod.1 = lm(mpg~weight, data = mpg.data)\n",
    "mod.2 = lm(mpg~weight+accel, data = mpg.data)\n",
    "mod.3 = lm(mpg~weight+accel+horsepower, data = mpg.data)"
   ]
  },
  {
   "cell_type": "code",
   "execution_count": 4,
   "metadata": {
    "deletable": false,
    "editable": false,
    "nbgrader": {
     "cell_type": "code",
     "checksum": "ed3bef036bc9792aadaabd233aa8acdc",
     "grade": true,
     "grade_id": "cell-0b3a8eb5eb687c4e",
     "locked": true,
     "points": 5,
     "schema_version": 3,
     "solution": false,
     "task": false
    }
   },
   "outputs": [
    {
     "name": "stdout",
     "output_type": "stream",
     "text": [
      "[1] \"All models are linear models.\"\n"
     ]
    }
   ],
   "source": [
    "# Test Cell\n",
    "# Make sure that each model is a linear model\n",
    "if(test_that(\"Testing model types\", \n",
    "             {(expect_is(mod.1, \"lm\"))\n",
    "              (expect_is(mod.2, \"lm\"))\n",
    "              (expect_is(mod.3, \"lm\"))})){\n",
    "    print(\"All models are linear models.\")\n",
    "}else{\n",
    "    print(\"At least one of the models isn't a linear model!\")\n",
    "    print(\"Make sure you're using the lm() function.\")\n",
    "}\n",
    "# This cell has hidden test cases that will run after submission."
   ]
  },
  {
   "cell_type": "markdown",
   "metadata": {
    "deletable": false,
    "editable": false,
    "nbgrader": {
     "cell_type": "markdown",
     "checksum": "3f8533bf3b3f149f407531bde655b99e",
     "grade": false,
     "grade_id": "cell-9eab12430a54ff8c",
     "locked": true,
     "schema_version": 3,
     "solution": false,
     "task": false
    }
   },
   "source": [
    "#### 1. (b) Partial F-Tests (10 points)\n",
    "\n",
    "Compare the 3 models using pairwise F-tests to determine which of the three we should use moving forward. It may be helpful to write out the null and alternative hypotheses for these tests.\n",
    "\n",
    "Copy your selected model into the `final.model` variable."
   ]
  },
  {
   "cell_type": "code",
   "execution_count": 5,
   "metadata": {},
   "outputs": [
    {
     "data": {
      "text/html": [
       "<table>\n",
       "<caption>A anova: 2 × 6</caption>\n",
       "<thead>\n",
       "\t<tr><th></th><th scope=col>Res.Df</th><th scope=col>RSS</th><th scope=col>Df</th><th scope=col>Sum of Sq</th><th scope=col>F</th><th scope=col>Pr(&gt;F)</th></tr>\n",
       "\t<tr><th></th><th scope=col>&lt;dbl&gt;</th><th scope=col>&lt;dbl&gt;</th><th scope=col>&lt;dbl&gt;</th><th scope=col>&lt;dbl&gt;</th><th scope=col>&lt;dbl&gt;</th><th scope=col>&lt;dbl&gt;</th></tr>\n",
       "</thead>\n",
       "<tbody>\n",
       "\t<tr><th scope=row>1</th><td>389</td><td>7319.209</td><td>NA</td><td>      NA</td><td>      NA</td><td>         NA</td></tr>\n",
       "\t<tr><th scope=row>2</th><td>388</td><td>7152.427</td><td> 1</td><td>166.7822</td><td>9.047486</td><td>0.002801995</td></tr>\n",
       "</tbody>\n",
       "</table>\n"
      ],
      "text/latex": [
       "A anova: 2 × 6\n",
       "\\begin{tabular}{r|llllll}\n",
       "  & Res.Df & RSS & Df & Sum of Sq & F & Pr(>F)\\\\\n",
       "  & <dbl> & <dbl> & <dbl> & <dbl> & <dbl> & <dbl>\\\\\n",
       "\\hline\n",
       "\t1 & 389 & 7319.209 & NA &       NA &       NA &          NA\\\\\n",
       "\t2 & 388 & 7152.427 &  1 & 166.7822 & 9.047486 & 0.002801995\\\\\n",
       "\\end{tabular}\n"
      ],
      "text/markdown": [
       "\n",
       "A anova: 2 × 6\n",
       "\n",
       "| <!--/--> | Res.Df &lt;dbl&gt; | RSS &lt;dbl&gt; | Df &lt;dbl&gt; | Sum of Sq &lt;dbl&gt; | F &lt;dbl&gt; | Pr(&gt;F) &lt;dbl&gt; |\n",
       "|---|---|---|---|---|---|---|\n",
       "| 1 | 389 | 7319.209 | NA |       NA |       NA |          NA |\n",
       "| 2 | 388 | 7152.427 |  1 | 166.7822 | 9.047486 | 0.002801995 |\n",
       "\n"
      ],
      "text/plain": [
       "  Res.Df RSS      Df Sum of Sq F        Pr(>F)     \n",
       "1 389    7319.209 NA       NA        NA          NA\n",
       "2 388    7152.427  1 166.7822  9.047486 0.002801995"
      ]
     },
     "metadata": {},
     "output_type": "display_data"
    }
   ],
   "source": [
    "# Compare model 1 to model 2\n",
    "anova(mod.1, mod.2)\n",
    "#Output below shows .0028 p value which says that model 2 is more statistically significant"
   ]
  },
  {
   "cell_type": "code",
   "execution_count": 6,
   "metadata": {},
   "outputs": [
    {
     "data": {
      "text/html": [
       "<table>\n",
       "<caption>A anova: 2 × 6</caption>\n",
       "<thead>\n",
       "\t<tr><th></th><th scope=col>Res.Df</th><th scope=col>RSS</th><th scope=col>Df</th><th scope=col>Sum of Sq</th><th scope=col>F</th><th scope=col>Pr(&gt;F)</th></tr>\n",
       "\t<tr><th></th><th scope=col>&lt;dbl&gt;</th><th scope=col>&lt;dbl&gt;</th><th scope=col>&lt;dbl&gt;</th><th scope=col>&lt;dbl&gt;</th><th scope=col>&lt;dbl&gt;</th><th scope=col>&lt;dbl&gt;</th></tr>\n",
       "</thead>\n",
       "<tbody>\n",
       "\t<tr><th scope=row>1</th><td>388</td><td>7152.427</td><td>NA</td><td>      NA</td><td>      NA</td><td>         NA</td></tr>\n",
       "\t<tr><th scope=row>2</th><td>387</td><td>6992.405</td><td> 1</td><td>160.0223</td><td>8.856557</td><td>0.003103755</td></tr>\n",
       "</tbody>\n",
       "</table>\n"
      ],
      "text/latex": [
       "A anova: 2 × 6\n",
       "\\begin{tabular}{r|llllll}\n",
       "  & Res.Df & RSS & Df & Sum of Sq & F & Pr(>F)\\\\\n",
       "  & <dbl> & <dbl> & <dbl> & <dbl> & <dbl> & <dbl>\\\\\n",
       "\\hline\n",
       "\t1 & 388 & 7152.427 & NA &       NA &       NA &          NA\\\\\n",
       "\t2 & 387 & 6992.405 &  1 & 160.0223 & 8.856557 & 0.003103755\\\\\n",
       "\\end{tabular}\n"
      ],
      "text/markdown": [
       "\n",
       "A anova: 2 × 6\n",
       "\n",
       "| <!--/--> | Res.Df &lt;dbl&gt; | RSS &lt;dbl&gt; | Df &lt;dbl&gt; | Sum of Sq &lt;dbl&gt; | F &lt;dbl&gt; | Pr(&gt;F) &lt;dbl&gt; |\n",
       "|---|---|---|---|---|---|---|\n",
       "| 1 | 388 | 7152.427 | NA |       NA |       NA |          NA |\n",
       "| 2 | 387 | 6992.405 |  1 | 160.0223 | 8.856557 | 0.003103755 |\n",
       "\n"
      ],
      "text/plain": [
       "  Res.Df RSS      Df Sum of Sq F        Pr(>F)     \n",
       "1 388    7152.427 NA       NA        NA          NA\n",
       "2 387    6992.405  1 160.0223  8.856557 0.003103755"
      ]
     },
     "metadata": {},
     "output_type": "display_data"
    }
   ],
   "source": [
    "anova(mod.2, mod.3)\n",
    "#Output below shows .0031 p value which says that model 3 is more statistically significant than model 2"
   ]
  },
  {
   "cell_type": "code",
   "execution_count": 7,
   "metadata": {
    "deletable": false,
    "nbgrader": {
     "cell_type": "code",
     "checksum": "c23eee6ea4829fc6ba3c6bf5865ba646",
     "grade": false,
     "grade_id": "cell-f4463bbaa5fc26ef",
     "locked": false,
     "schema_version": 3,
     "solution": true,
     "task": false
    }
   },
   "outputs": [],
   "source": [
    "final.model = NA\n",
    "# your code here\n",
    "final.model = mod.3"
   ]
  },
  {
   "cell_type": "code",
   "execution_count": 8,
   "metadata": {
    "deletable": false,
    "editable": false,
    "nbgrader": {
     "cell_type": "code",
     "checksum": "23f583769d9cdbca56021754d86eeda5",
     "grade": true,
     "grade_id": "cell-3c38c722058b4576",
     "locked": true,
     "points": 10,
     "schema_version": 3,
     "solution": false,
     "task": false
    }
   },
   "outputs": [
    {
     "name": "stdout",
     "output_type": "stream",
     "text": [
      "[1] \"You've selected a model! Make sure you're confident in your answer.\"\n"
     ]
    }
   ],
   "source": [
    "# Test Cell\n",
    "if(test_that(\"Check final.model class\", {expect_is(final.model, \"lm\")})){\n",
    "    print(\"You've selected a model! Make sure you're confident in your answer.\")\n",
    "}else{\n",
    "    print(\"final.model is not a linear model.\")\n",
    "    print(\"To copy the selected model use `final.model = mod.#`\")\n",
    "}\n",
    "# This cell has hidden test cases that will run after submission."
   ]
  },
  {
   "cell_type": "markdown",
   "metadata": {
    "deletable": false,
    "editable": false,
    "nbgrader": {
     "cell_type": "markdown",
     "checksum": "9b4f3eb03177179138cd739d188cedcd",
     "grade": false,
     "grade_id": "cell-d9c61c50ae399a94",
     "locked": true,
     "schema_version": 3,
     "solution": false,
     "task": false
    }
   },
   "source": [
    "#### 1. (c) Coefficient Confidence Intervals (10 points)\n",
    "\n",
    "Using your selected best model, calculate a $95\\%$ confidence interval for the `weight` parameter. Save the lower and upper values into `weight.CI.lower` and `weight.CI.upper` respectively."
   ]
  },
  {
   "cell_type": "code",
   "execution_count": 9,
   "metadata": {
    "deletable": false,
    "nbgrader": {
     "cell_type": "code",
     "checksum": "e3139e3f1dddcf962ff5d8a8847edf28",
     "grade": false,
     "grade_id": "cell-0288544f5b234bab",
     "locked": false,
     "schema_version": 3,
     "solution": true,
     "task": false
    }
   },
   "outputs": [
    {
     "data": {
      "text/html": [
       "<table>\n",
       "<caption>A matrix: 1 × 2 of type dbl</caption>\n",
       "<thead>\n",
       "\t<tr><th></th><th scope=col>2.5 %</th><th scope=col>97.5 %</th></tr>\n",
       "</thead>\n",
       "<tbody>\n",
       "\t<tr><th scope=row>weight</th><td>-0.006920931</td><td>-0.004645464</td></tr>\n",
       "</tbody>\n",
       "</table>\n"
      ],
      "text/latex": [
       "A matrix: 1 × 2 of type dbl\n",
       "\\begin{tabular}{r|ll}\n",
       "  & 2.5 \\% & 97.5 \\%\\\\\n",
       "\\hline\n",
       "\tweight & -0.006920931 & -0.004645464\\\\\n",
       "\\end{tabular}\n"
      ],
      "text/markdown": [
       "\n",
       "A matrix: 1 × 2 of type dbl\n",
       "\n",
       "| <!--/--> | 2.5 % | 97.5 % |\n",
       "|---|---|---|\n",
       "| weight | -0.006920931 | -0.004645464 |\n",
       "\n"
      ],
      "text/plain": [
       "       2.5 %        97.5 %      \n",
       "weight -0.006920931 -0.004645464"
      ]
     },
     "metadata": {},
     "output_type": "display_data"
    }
   ],
   "source": [
    "weight.CI.lower = NA\n",
    "weight.CI.upper = NA\n",
    "\n",
    "# your code here\n",
    "confint(mod.3, 'weight', level = .95)\n",
    "weight.CI.lower = -0.006920931\n",
    "weight.CI.upper = -0.004645464"
   ]
  },
  {
   "cell_type": "code",
   "execution_count": 10,
   "metadata": {
    "deletable": false,
    "editable": false,
    "nbgrader": {
     "cell_type": "code",
     "checksum": "0c2c58fadd1515cadfb007237ab7c613",
     "grade": true,
     "grade_id": "cell-196c4b28f7f44d76",
     "locked": true,
     "points": 10,
     "schema_version": 3,
     "solution": false,
     "task": false
    }
   },
   "outputs": [],
   "source": [
    "# Test Cell\n",
    "# This cell has hidden test cases that will run after submission."
   ]
  },
  {
   "cell_type": "markdown",
   "metadata": {
    "deletable": false,
    "editable": false,
    "nbgrader": {
     "cell_type": "markdown",
     "checksum": "11bb206e072850d6a0ef5e454dd1907f",
     "grade": false,
     "grade_id": "cell-3dcc0ddc69353e65",
     "locked": true,
     "schema_version": 3,
     "solution": false,
     "task": false
    }
   },
   "source": [
    "#### 1. (d) Model Comparison (5 points)\n",
    "\n",
    "So far, we've used the F-test as a way to choose a \"best\" model among the three proposed. Now let's compare the models according to their mean squared errors (MSE). Compute the MSE for each of the three models and save their values into their respective `MSE.#` variables.\n",
    "\n",
    "Which of these models has the best MSE? Do these conclusions agree with the model you selected in part **1.b**? Think about why or why not."
   ]
  },
  {
   "cell_type": "code",
   "execution_count": 11,
   "metadata": {
    "deletable": false,
    "nbgrader": {
     "cell_type": "code",
     "checksum": "74ac93bb9c31be08a00fe586d07f6bab",
     "grade": false,
     "grade_id": "cell-436d726601f9377a",
     "locked": false,
     "schema_version": 3,
     "solution": true,
     "task": false
    }
   },
   "outputs": [
    {
     "data": {
      "text/html": [
       "18.7192058382486"
      ],
      "text/latex": [
       "18.7192058382486"
      ],
      "text/markdown": [
       "18.7192058382486"
      ],
      "text/plain": [
       "[1] 18.71921"
      ]
     },
     "metadata": {},
     "output_type": "display_data"
    },
    {
     "data": {
      "text/html": [
       "18.2926529344723"
      ],
      "text/latex": [
       "18.2926529344723"
      ],
      "text/markdown": [
       "18.2926529344723"
      ],
      "text/plain": [
       "[1] 18.29265"
      ]
     },
     "metadata": {},
     "output_type": "display_data"
    },
    {
     "data": {
      "text/html": [
       "17.8833887378182"
      ],
      "text/latex": [
       "17.8833887378182"
      ],
      "text/markdown": [
       "17.8833887378182"
      ],
      "text/plain": [
       "[1] 17.88339"
      ]
     },
     "metadata": {},
     "output_type": "display_data"
    }
   ],
   "source": [
    "MSE.1 = NA\n",
    "MSE.2 = NA\n",
    "MSE.3 = NA\n",
    "\n",
    "# your code here\n",
    "data1 = data.frame(pred = predict(mod.1), actual = mpg.data$mpg)\n",
    "MSE.1 = mean((data1$actual - data1$pred)^2)\n",
    "\n",
    "data2 = data.frame(pred = predict(mod.2), actual = mpg.data$mpg)\n",
    "MSE.2 = mean((data2$actual - data2$pred)^2)\n",
    "\n",
    "data3 = data.frame(pred = predict(mod.3), actual = mpg.data$mpg)\n",
    "MSE.3 = mean((data3$actual - data3$pred)^2)\n",
    "\n",
    "MSE.1\n",
    "MSE.2\n",
    "MSE.3\n",
    "# The lower the value the better so looking at MSEs, the 3rd is the best."
   ]
  },
  {
   "cell_type": "code",
   "execution_count": null,
   "metadata": {
    "deletable": false,
    "editable": false,
    "nbgrader": {
     "cell_type": "code",
     "checksum": "036045bad5539141a14a8d762f5be3b4",
     "grade": true,
     "grade_id": "cell-7700c89c1209fc31",
     "locked": true,
     "points": 5,
     "schema_version": 3,
     "solution": false,
     "task": false
    }
   },
   "outputs": [],
   "source": [
    "# Test Cell\n",
    "# This cell has hidden test cases that will run after submission."
   ]
  },
  {
   "cell_type": "markdown",
   "metadata": {
    "deletable": false,
    "editable": false,
    "nbgrader": {
     "cell_type": "markdown",
     "checksum": "d7ba57714c003f42ddddb38dff976792",
     "grade": false,
     "grade_id": "cell-69ef17c11b5e5185",
     "locked": true,
     "schema_version": 3,
     "solution": false,
     "task": false
    }
   },
   "source": [
    "# Problem 2: Large Datasets and Significance\n",
    "\n",
    "For this exercise, we will see if we can create a \"good\" regression model for a city's temperature using other weather data. The data is from hourly weather records of Szeged, Hungary from 2006-2016. The data was provided by [Darksky.net](https://darksky.net/forecast/46.2543,20.1484/us12/en) and can be found on Kaggle [here](https://www.kaggle.com/budincsevity/szeged-weather). The data has not been modified in any way.\n",
    "\n",
    "The data is loaded in the cell below."
   ]
  },
  {
   "cell_type": "code",
   "execution_count": 12,
   "metadata": {
    "deletable": false,
    "editable": false,
    "nbgrader": {
     "cell_type": "code",
     "checksum": "6f7c55a56cecc71dfce04690c73de58e",
     "grade": false,
     "grade_id": "cell-1971d7b6e0ebeae4",
     "locked": true,
     "schema_version": 3,
     "solution": false,
     "task": false
    }
   },
   "outputs": [
    {
     "data": {
      "text/html": [
       "<table>\n",
       "<caption>A data.frame: 6 × 12</caption>\n",
       "<thead>\n",
       "\t<tr><th></th><th scope=col>Formatted.Date</th><th scope=col>Summary</th><th scope=col>Precip.Type</th><th scope=col>Temperature..C.</th><th scope=col>Apparent.Temperature..C.</th><th scope=col>Humidity</th><th scope=col>Wind.Speed..km.h.</th><th scope=col>Wind.Bearing..degrees.</th><th scope=col>Visibility..km.</th><th scope=col>Loud.Cover</th><th scope=col>Pressure..millibars.</th><th scope=col>Daily.Summary</th></tr>\n",
       "\t<tr><th></th><th scope=col>&lt;fct&gt;</th><th scope=col>&lt;fct&gt;</th><th scope=col>&lt;fct&gt;</th><th scope=col>&lt;dbl&gt;</th><th scope=col>&lt;dbl&gt;</th><th scope=col>&lt;dbl&gt;</th><th scope=col>&lt;dbl&gt;</th><th scope=col>&lt;dbl&gt;</th><th scope=col>&lt;dbl&gt;</th><th scope=col>&lt;dbl&gt;</th><th scope=col>&lt;dbl&gt;</th><th scope=col>&lt;fct&gt;</th></tr>\n",
       "</thead>\n",
       "<tbody>\n",
       "\t<tr><th scope=row>1</th><td>2006-04-01 00:00:00.000 +0200</td><td>Partly Cloudy</td><td>rain</td><td>9.472222</td><td>7.388889</td><td>0.89</td><td>14.1197</td><td>251</td><td>15.8263</td><td>0</td><td>1015.13</td><td>Partly cloudy throughout the day.</td></tr>\n",
       "\t<tr><th scope=row>2</th><td>2006-04-01 01:00:00.000 +0200</td><td>Partly Cloudy</td><td>rain</td><td>9.355556</td><td>7.227778</td><td>0.86</td><td>14.2646</td><td>259</td><td>15.8263</td><td>0</td><td>1015.63</td><td>Partly cloudy throughout the day.</td></tr>\n",
       "\t<tr><th scope=row>3</th><td>2006-04-01 02:00:00.000 +0200</td><td>Mostly Cloudy</td><td>rain</td><td>9.377778</td><td>9.377778</td><td>0.89</td><td> 3.9284</td><td>204</td><td>14.9569</td><td>0</td><td>1015.94</td><td>Partly cloudy throughout the day.</td></tr>\n",
       "\t<tr><th scope=row>4</th><td>2006-04-01 03:00:00.000 +0200</td><td>Partly Cloudy</td><td>rain</td><td>8.288889</td><td>5.944444</td><td>0.83</td><td>14.1036</td><td>269</td><td>15.8263</td><td>0</td><td>1016.41</td><td>Partly cloudy throughout the day.</td></tr>\n",
       "\t<tr><th scope=row>5</th><td>2006-04-01 04:00:00.000 +0200</td><td>Mostly Cloudy</td><td>rain</td><td>8.755556</td><td>6.977778</td><td>0.83</td><td>11.0446</td><td>259</td><td>15.8263</td><td>0</td><td>1016.51</td><td>Partly cloudy throughout the day.</td></tr>\n",
       "\t<tr><th scope=row>6</th><td>2006-04-01 05:00:00.000 +0200</td><td>Partly Cloudy</td><td>rain</td><td>9.222222</td><td>7.111111</td><td>0.85</td><td>13.9587</td><td>258</td><td>14.9569</td><td>0</td><td>1016.66</td><td>Partly cloudy throughout the day.</td></tr>\n",
       "</tbody>\n",
       "</table>\n"
      ],
      "text/latex": [
       "A data.frame: 6 × 12\n",
       "\\begin{tabular}{r|llllllllllll}\n",
       "  & Formatted.Date & Summary & Precip.Type & Temperature..C. & Apparent.Temperature..C. & Humidity & Wind.Speed..km.h. & Wind.Bearing..degrees. & Visibility..km. & Loud.Cover & Pressure..millibars. & Daily.Summary\\\\\n",
       "  & <fct> & <fct> & <fct> & <dbl> & <dbl> & <dbl> & <dbl> & <dbl> & <dbl> & <dbl> & <dbl> & <fct>\\\\\n",
       "\\hline\n",
       "\t1 & 2006-04-01 00:00:00.000 +0200 & Partly Cloudy & rain & 9.472222 & 7.388889 & 0.89 & 14.1197 & 251 & 15.8263 & 0 & 1015.13 & Partly cloudy throughout the day.\\\\\n",
       "\t2 & 2006-04-01 01:00:00.000 +0200 & Partly Cloudy & rain & 9.355556 & 7.227778 & 0.86 & 14.2646 & 259 & 15.8263 & 0 & 1015.63 & Partly cloudy throughout the day.\\\\\n",
       "\t3 & 2006-04-01 02:00:00.000 +0200 & Mostly Cloudy & rain & 9.377778 & 9.377778 & 0.89 &  3.9284 & 204 & 14.9569 & 0 & 1015.94 & Partly cloudy throughout the day.\\\\\n",
       "\t4 & 2006-04-01 03:00:00.000 +0200 & Partly Cloudy & rain & 8.288889 & 5.944444 & 0.83 & 14.1036 & 269 & 15.8263 & 0 & 1016.41 & Partly cloudy throughout the day.\\\\\n",
       "\t5 & 2006-04-01 04:00:00.000 +0200 & Mostly Cloudy & rain & 8.755556 & 6.977778 & 0.83 & 11.0446 & 259 & 15.8263 & 0 & 1016.51 & Partly cloudy throughout the day.\\\\\n",
       "\t6 & 2006-04-01 05:00:00.000 +0200 & Partly Cloudy & rain & 9.222222 & 7.111111 & 0.85 & 13.9587 & 258 & 14.9569 & 0 & 1016.66 & Partly cloudy throughout the day.\\\\\n",
       "\\end{tabular}\n"
      ],
      "text/markdown": [
       "\n",
       "A data.frame: 6 × 12\n",
       "\n",
       "| <!--/--> | Formatted.Date &lt;fct&gt; | Summary &lt;fct&gt; | Precip.Type &lt;fct&gt; | Temperature..C. &lt;dbl&gt; | Apparent.Temperature..C. &lt;dbl&gt; | Humidity &lt;dbl&gt; | Wind.Speed..km.h. &lt;dbl&gt; | Wind.Bearing..degrees. &lt;dbl&gt; | Visibility..km. &lt;dbl&gt; | Loud.Cover &lt;dbl&gt; | Pressure..millibars. &lt;dbl&gt; | Daily.Summary &lt;fct&gt; |\n",
       "|---|---|---|---|---|---|---|---|---|---|---|---|---|\n",
       "| 1 | 2006-04-01 00:00:00.000 +0200 | Partly Cloudy | rain | 9.472222 | 7.388889 | 0.89 | 14.1197 | 251 | 15.8263 | 0 | 1015.13 | Partly cloudy throughout the day. |\n",
       "| 2 | 2006-04-01 01:00:00.000 +0200 | Partly Cloudy | rain | 9.355556 | 7.227778 | 0.86 | 14.2646 | 259 | 15.8263 | 0 | 1015.63 | Partly cloudy throughout the day. |\n",
       "| 3 | 2006-04-01 02:00:00.000 +0200 | Mostly Cloudy | rain | 9.377778 | 9.377778 | 0.89 |  3.9284 | 204 | 14.9569 | 0 | 1015.94 | Partly cloudy throughout the day. |\n",
       "| 4 | 2006-04-01 03:00:00.000 +0200 | Partly Cloudy | rain | 8.288889 | 5.944444 | 0.83 | 14.1036 | 269 | 15.8263 | 0 | 1016.41 | Partly cloudy throughout the day. |\n",
       "| 5 | 2006-04-01 04:00:00.000 +0200 | Mostly Cloudy | rain | 8.755556 | 6.977778 | 0.83 | 11.0446 | 259 | 15.8263 | 0 | 1016.51 | Partly cloudy throughout the day. |\n",
       "| 6 | 2006-04-01 05:00:00.000 +0200 | Partly Cloudy | rain | 9.222222 | 7.111111 | 0.85 | 13.9587 | 258 | 14.9569 | 0 | 1016.66 | Partly cloudy throughout the day. |\n",
       "\n"
      ],
      "text/plain": [
       "  Formatted.Date                Summary       Precip.Type Temperature..C.\n",
       "1 2006-04-01 00:00:00.000 +0200 Partly Cloudy rain        9.472222       \n",
       "2 2006-04-01 01:00:00.000 +0200 Partly Cloudy rain        9.355556       \n",
       "3 2006-04-01 02:00:00.000 +0200 Mostly Cloudy rain        9.377778       \n",
       "4 2006-04-01 03:00:00.000 +0200 Partly Cloudy rain        8.288889       \n",
       "5 2006-04-01 04:00:00.000 +0200 Mostly Cloudy rain        8.755556       \n",
       "6 2006-04-01 05:00:00.000 +0200 Partly Cloudy rain        9.222222       \n",
       "  Apparent.Temperature..C. Humidity Wind.Speed..km.h. Wind.Bearing..degrees.\n",
       "1 7.388889                 0.89     14.1197           251                   \n",
       "2 7.227778                 0.86     14.2646           259                   \n",
       "3 9.377778                 0.89      3.9284           204                   \n",
       "4 5.944444                 0.83     14.1036           269                   \n",
       "5 6.977778                 0.83     11.0446           259                   \n",
       "6 7.111111                 0.85     13.9587           258                   \n",
       "  Visibility..km. Loud.Cover Pressure..millibars.\n",
       "1 15.8263         0          1015.13             \n",
       "2 15.8263         0          1015.63             \n",
       "3 14.9569         0          1015.94             \n",
       "4 15.8263         0          1016.41             \n",
       "5 15.8263         0          1016.51             \n",
       "6 14.9569         0          1016.66             \n",
       "  Daily.Summary                    \n",
       "1 Partly cloudy throughout the day.\n",
       "2 Partly cloudy throughout the day.\n",
       "3 Partly cloudy throughout the day.\n",
       "4 Partly cloudy throughout the day.\n",
       "5 Partly cloudy throughout the day.\n",
       "6 Partly cloudy throughout the day."
      ]
     },
     "metadata": {},
     "output_type": "display_data"
    }
   ],
   "source": [
    "# Load in the data\n",
    "weather.data = read.csv(\"weatherHistory.csv\")\n",
    "weather.data = na.omit(weather.data)\n",
    "head(weather.data)\n"
   ]
  },
  {
   "cell_type": "markdown",
   "metadata": {
    "deletable": false,
    "editable": false,
    "nbgrader": {
     "cell_type": "markdown",
     "checksum": "44094157d372bed3eab0aafb1187b617",
     "grade": false,
     "grade_id": "cell-f344fd713712ab8e",
     "locked": true,
     "schema_version": 3,
     "solution": false,
     "task": false
    }
   },
   "source": [
    "#### 2. (a) Talking about the weather. (5 points)\n",
    "\n",
    "Before we jump into modeling, let's think about weather. Is temperature correlated with wind speed, visibility or pressure? Certainly somewhat, but probably not to a great extent. Let's find out exactly (at least for these data).\n",
    "\n",
    "Determine the correlation between `Temperature..C.` and the three predictors: `Wind.Speed..km.h.`, `Visibility..km.` and `Pressure..millibars.`. Store these values in `cor.speed`, `cor.vis` and `cor.pres` respectively.\n",
    "\n",
    "Also, if our data is hourly records over 10 years, then we're going to have a lot of records. How many rows does our dataset have? Store this value in `data.n`."
   ]
  },
  {
   "cell_type": "code",
   "execution_count": 13,
   "metadata": {
    "deletable": false,
    "nbgrader": {
     "cell_type": "code",
     "checksum": "3718830ddf25aceaa4f4622b16b9d7d1",
     "grade": false,
     "grade_id": "cell-183aa8dd084821d6",
     "locked": false,
     "schema_version": 3,
     "solution": true,
     "task": false
    }
   },
   "outputs": [
    {
     "data": {
      "text/plain": [
       "\n",
       "\tPearson's product-moment correlation\n",
       "\n",
       "data:  weather.data$Temperature..C. and weather.data$Wind.Speed..km.h.\n",
       "t = 5.0254, df = 54917, p-value = 5.039e-07\n",
       "alternative hypothesis: true correlation is not equal to 0\n",
       "95 percent confidence interval:\n",
       " 0.01307862 0.02979795\n",
       "sample estimates:\n",
       "       cor \n",
       "0.02143979 \n"
      ]
     },
     "metadata": {},
     "output_type": "display_data"
    },
    {
     "data": {
      "text/plain": [
       "\n",
       "\tPearson's product-moment correlation\n",
       "\n",
       "data:  weather.data$Temperature..C. and weather.data$Visibility..km.\n",
       "t = 95.288, df = 54917, p-value < 2.2e-16\n",
       "alternative hypothesis: true correlation is not equal to 0\n",
       "95 percent confidence interval:\n",
       " 0.3694702 0.3838241\n",
       "sample estimates:\n",
       "      cor \n",
       "0.3766697 \n"
      ]
     },
     "metadata": {},
     "output_type": "display_data"
    },
    {
     "data": {
      "text/plain": [
       "\n",
       "\tPearson's product-moment correlation\n",
       "\n",
       "data:  weather.data$Temperature..C. and weather.data$Pressure..millibars.\n",
       "t = -9.0868, df = 54917, p-value < 2.2e-16\n",
       "alternative hypothesis: true correlation is not equal to 0\n",
       "95 percent confidence interval:\n",
       " -0.04709466 -0.03039276\n",
       "sample estimates:\n",
       "        cor \n",
       "-0.03874642 \n"
      ]
     },
     "metadata": {},
     "output_type": "display_data"
    }
   ],
   "source": [
    "cor.speed = NA\n",
    "cor.vis = NA\n",
    "cor.pres = NA\n",
    "data.n = NA\n",
    "\n",
    "# your code here\n",
    "cor.test(weather.data$Temperature..C., weather.data$Wind.Speed..km.h., \n",
    "                    method = \"pearson\")\n",
    "cor.speed = 0.02143979 \n",
    "\n",
    "cor.test(weather.data$Temperature..C., weather.data$Visibility..km., \n",
    "                    method = \"pearson\")\n",
    "cor.vis = 0.3766697 \n",
    "\n",
    "cor.test(weather.data$Temperature..C., weather.data$Pressure..millibars., \n",
    "                    method = \"pearson\")\n",
    "cor.pres = -0.03874642 \n",
    "\n",
    "data.n = 54919"
   ]
  },
  {
   "cell_type": "code",
   "execution_count": 14,
   "metadata": {
    "deletable": false,
    "editable": false,
    "nbgrader": {
     "cell_type": "code",
     "checksum": "e3516f1f8e57aa15d13db0239fe335dc",
     "grade": true,
     "grade_id": "cell-d49e30e6fc06af1b",
     "locked": true,
     "points": 5,
     "schema_version": 3,
     "solution": false,
     "task": false
    }
   },
   "outputs": [],
   "source": [
    "# Test Cell\n",
    "# This cell has hidden test cases that will run after submission."
   ]
  },
  {
   "cell_type": "markdown",
   "metadata": {
    "deletable": false,
    "editable": false,
    "nbgrader": {
     "cell_type": "markdown",
     "checksum": "5cf4625f3275039584374595ab750aaf",
     "grade": false,
     "grade_id": "cell-7ffa8fb830c5cecf",
     "locked": true,
     "schema_version": 3,
     "solution": false,
     "task": false
    }
   },
   "source": [
    "#### 2. (b) Data Size Matters (5 points)\n",
    "\n",
    "Yep, that's a lot of data. But isn't more data better? Well, let's find out. We can create two different models, one with a little data and one with a lot of data, and determine if the one fit to more data is the better model.\n",
    "\n",
    "Fit two models to the data, with `Temperature..C.` as the response and `Wind.Speed..km.h.`, `Visibility..km.` and `Pressure..millibars.` as predictors. The first model, `weather.lmod.small`, should be fit to the first $30$ rows of the data. The second model, `weather.lmod.all`, should be fit to all the data.\n",
    "\n",
    "Look at the p-values of the model coefficients. What can you infer?"
   ]
  },
  {
   "cell_type": "code",
   "execution_count": 17,
   "metadata": {
    "deletable": false,
    "nbgrader": {
     "cell_type": "code",
     "checksum": "3dab6bd5e987f9470d88ad7aa7370008",
     "grade": false,
     "grade_id": "cell-eb2ca4250cac617d",
     "locked": false,
     "schema_version": 3,
     "solution": true,
     "task": false
    }
   },
   "outputs": [
    {
     "data": {
      "text/plain": [
       "\n",
       "Call:\n",
       "lm(formula = Temperature..C. ~ Wind.Speed..km.h. + Visibility..km. + \n",
       "    Pressure..millibars., data = data_small)\n",
       "\n",
       "Residuals:\n",
       "    Min      1Q  Median      3Q     Max \n",
       "-6.7367 -1.4240 -0.3303  1.8014  6.0620 \n",
       "\n",
       "Coefficients:\n",
       "                      Estimate Std. Error t value Pr(>|t|)   \n",
       "(Intercept)          -36.76393  396.99271  -0.093  0.92693   \n",
       "Wind.Speed..km.h.      0.26616    0.11957   2.226  0.03490 * \n",
       "Visibility..km.       -0.84184    0.26459  -3.182  0.00377 **\n",
       "Pressure..millibars.   0.05542    0.38941   0.142  0.88793   \n",
       "---\n",
       "Signif. codes:  0 ‘***’ 0.001 ‘**’ 0.01 ‘*’ 0.05 ‘.’ 0.1 ‘ ’ 1\n",
       "\n",
       "Residual standard error: 2.931 on 26 degrees of freedom\n",
       "Multiple R-squared:  0.4621,\tAdjusted R-squared:    0.4 \n",
       "F-statistic: 7.444 on 3 and 26 DF,  p-value: 0.0009344\n"
      ]
     },
     "metadata": {},
     "output_type": "display_data"
    },
    {
     "data": {
      "text/plain": [
       "\n",
       "Call:\n",
       "lm(formula = Temperature..C. ~ Wind.Speed..km.h. + Visibility..km. + \n",
       "    Pressure..millibars., data = weather.data)\n",
       "\n",
       "Residuals:\n",
       "     Min       1Q   Median       3Q      Max \n",
       "-30.9163  -6.4825  -0.5336   6.0019  28.6052 \n",
       "\n",
       "Coefficients:\n",
       "                       Estimate Std. Error t value Pr(>|t|)    \n",
       "(Intercept)           6.2814847  0.3594689   17.47  < 2e-16 ***\n",
       "Wind.Speed..km.h.    -0.0416818  0.0055575   -7.50 6.48e-14 ***\n",
       "Visibility..km.       0.9640102  0.0100791   95.64  < 2e-16 ***\n",
       "Pressure..millibars. -0.0035936  0.0003374  -10.65  < 2e-16 ***\n",
       "---\n",
       "Signif. codes:  0 ‘***’ 0.001 ‘**’ 0.01 ‘*’ 0.05 ‘.’ 0.1 ‘ ’ 1\n",
       "\n",
       "Residual standard error: 9.025 on 54915 degrees of freedom\n",
       "Multiple R-squared:  0.1444,\tAdjusted R-squared:  0.1444 \n",
       "F-statistic:  3090 on 3 and 54915 DF,  p-value: < 2.2e-16\n"
      ]
     },
     "metadata": {},
     "output_type": "display_data"
    }
   ],
   "source": [
    "weather.lmod.small = NA\n",
    "weather.lmod.all = NA\n",
    "\n",
    "# your code here\n",
    "data_small = weather.data[1:30,]\n",
    "weather.lmod.small = lm(Temperature..C.~Wind.Speed..km.h. + Visibility..km. + Pressure..millibars., data = data_small)\n",
    "weather.lmod.all = lm(Temperature..C.~Wind.Speed..km.h. + Visibility..km. + Pressure..millibars., data = weather.data)\n",
    "summary(weather.lmod.small)\n",
    "summary(weather.lmod.all)"
   ]
  },
  {
   "cell_type": "code",
   "execution_count": 18,
   "metadata": {
    "deletable": false,
    "editable": false,
    "nbgrader": {
     "cell_type": "code",
     "checksum": "e23cd9f3f994f0f7d8beafefa4fdc7dd",
     "grade": true,
     "grade_id": "cell-9eab1b9dd437a011",
     "locked": true,
     "points": 5,
     "schema_version": 3,
     "solution": false,
     "task": false
    }
   },
   "outputs": [],
   "source": [
    "# Test Cell\n",
    "# This cell has hidden test cases that will run after submission."
   ]
  },
  {
   "cell_type": "markdown",
   "metadata": {
    "deletable": false,
    "editable": false,
    "nbgrader": {
     "cell_type": "markdown",
     "checksum": "363eb85c262d81dfa6aa67bcd8f23148",
     "grade": false,
     "grade_id": "cell-8ae5c673231343f6",
     "locked": true,
     "schema_version": 3,
     "solution": false,
     "task": false
    }
   },
   "source": [
    "#### 2. (c) Interpreting Our Models (10 points)\n",
    "\n",
    "Answer the following questions and put your answer with the corresponding answer number.\n",
    "\n",
    "1. TRUE/FALSE. The coefficient for `Pressure..millibars.` for the model fit to all the data is statistically signficant.\n",
    "2. TRUE/FALSE. The coefficient for `Pressure..millibars.` for the model fit to a small amount of data is statistically significant.\n",
    "3. What is the $R^2$ for the model fit to all of the data?\n",
    "4. What is the $R^2$ for the model fit to a small amount of the data?\n",
    "5. Which model explained more variablility in its respective dataset? Copy the correct model into this answer variable. Think about why this is the case!\n",
    "5. TRUE/FALSE. Models fit to large amounts of data run the risk of having statistically significant coefficients, even if the predictor isn't practically significant to the response."
   ]
  },
  {
   "cell_type": "code",
   "execution_count": 19,
   "metadata": {
    "deletable": false,
    "nbgrader": {
     "cell_type": "code",
     "checksum": "c93729d76bc9ec7e2aabb805fcdf8ead",
     "grade": false,
     "grade_id": "cell-c329089f0eb2b6f3",
     "locked": false,
     "schema_version": 3,
     "solution": true,
     "task": false
    }
   },
   "outputs": [],
   "source": [
    "prob.3.c.1 = NA\n",
    "\n",
    "prob.3.c.2 = NA\n",
    "\n",
    "prob.3.c.3 = NA\n",
    "\n",
    "prob.3.c.4 = NA\n",
    "\n",
    "# Save the selected model into this variable.\n",
    "prob.3.c.5 = NA\n",
    "\n",
    "prob.3.c.6 = NA\n",
    "\n",
    "# your code here\n",
    "prob.3.c.1 = TRUE\n",
    "\n",
    "prob.3.c.2 = FALSE\n",
    "\n",
    "prob.3.c.3 = 0.1444\n",
    "\n",
    "prob.3.c.4 = 0.4621\n",
    "\n",
    "# Save the selected model into this variable.\n",
    "prob.3.c.5 = weather.lmod.small\n",
    "\n",
    "prob.3.c.6 = TRUE\n"
   ]
  },
  {
   "cell_type": "code",
   "execution_count": null,
   "metadata": {
    "deletable": false,
    "editable": false,
    "nbgrader": {
     "cell_type": "code",
     "checksum": "4dea55f2761fb3ae58ddb2bf2bff3343",
     "grade": true,
     "grade_id": "cell-b8d62d399926fdd3",
     "locked": true,
     "points": 2,
     "schema_version": 3,
     "solution": false,
     "task": false
    }
   },
   "outputs": [],
   "source": [
    "# TEST CELL\n",
    "if (!test_that(\"Checking type() of answer\", expect_is(prob.3.c.5, \"lm\"))){\n",
    "    print(\"Make sure prob.3.c.5 is your selected linear model. Should be of type 'lm'\")\n",
    "}\n",
    "# This cell has hidden test cases that will run after submission."
   ]
  },
  {
   "cell_type": "code",
   "execution_count": null,
   "metadata": {
    "deletable": false,
    "editable": false,
    "nbgrader": {
     "cell_type": "code",
     "checksum": "a026db6ef3d760f33f13a9766e6b0ef2",
     "grade": true,
     "grade_id": "cell-747d04a23ecfa06c",
     "locked": true,
     "points": 2,
     "schema_version": 3,
     "solution": false,
     "task": false
    }
   },
   "outputs": [],
   "source": [
    "# Test Cell\n",
    "# This cell has hidden test cases that will run after submission."
   ]
  },
  {
   "cell_type": "code",
   "execution_count": null,
   "metadata": {
    "deletable": false,
    "editable": false,
    "nbgrader": {
     "cell_type": "code",
     "checksum": "185314335da265b3ab458149e32c2a7b",
     "grade": true,
     "grade_id": "cell-13617391a174785a",
     "locked": true,
     "points": 1,
     "schema_version": 3,
     "solution": false,
     "task": false
    }
   },
   "outputs": [],
   "source": [
    "# Test Cell\n",
    "# This cell has hidden test cases that will run after submission."
   ]
  },
  {
   "cell_type": "code",
   "execution_count": null,
   "metadata": {
    "deletable": false,
    "editable": false,
    "nbgrader": {
     "cell_type": "code",
     "checksum": "a9ba773825acd4ee183595b0b4e3f0b5",
     "grade": true,
     "grade_id": "cell-ca4245dd068ab3b8",
     "locked": true,
     "points": 1,
     "schema_version": 3,
     "solution": false,
     "task": false
    }
   },
   "outputs": [],
   "source": [
    "# Test Cell\n",
    "# This cell has hidden test cases that will run after submission."
   ]
  },
  {
   "cell_type": "code",
   "execution_count": null,
   "metadata": {
    "deletable": false,
    "editable": false,
    "nbgrader": {
     "cell_type": "code",
     "checksum": "2d1a6a7ee1677d02467351adf77cd2ab",
     "grade": true,
     "grade_id": "cell-696e053bc707a622",
     "locked": true,
     "points": 2,
     "schema_version": 3,
     "solution": false,
     "task": false
    }
   },
   "outputs": [],
   "source": [
    "# Test Cell\n",
    "# This cell has hidden test cases that will run after submission."
   ]
  },
  {
   "cell_type": "code",
   "execution_count": null,
   "metadata": {
    "deletable": false,
    "editable": false,
    "nbgrader": {
     "cell_type": "code",
     "checksum": "87f29b8f40f26e4977f61e3d9b4cb0bc",
     "grade": true,
     "grade_id": "cell-7df0a366e15ea33c",
     "locked": true,
     "points": 2,
     "schema_version": 3,
     "solution": false,
     "task": false
    }
   },
   "outputs": [],
   "source": [
    "# Test Cell\n",
    "# This cell has hidden test cases that will run after submission."
   ]
  }
 ],
 "metadata": {
  "kernelspec": {
   "display_name": "R",
   "language": "R",
   "name": "ir"
  },
  "language_info": {
   "codemirror_mode": "r",
   "file_extension": ".r",
   "mimetype": "text/x-r-source",
   "name": "R",
   "pygments_lexer": "r",
   "version": "3.6.3"
  }
 },
 "nbformat": 4,
 "nbformat_minor": 4
}
