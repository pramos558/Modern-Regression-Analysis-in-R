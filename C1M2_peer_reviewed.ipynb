{
 "cells": [
  {
   "cell_type": "markdown",
   "metadata": {},
   "source": [
    "# Module 2: Peer Reviewed Assignment"
   ]
  },
  {
   "cell_type": "markdown",
   "metadata": {},
   "source": [
    "### Outline:\n",
    "The objectives for this assignment:\n",
    "\n",
    "1. Mathematically derive the values of $\\hat{\\beta}_0$ and $\\hat{\\beta}_1$\n",
    "2. Enhance our skills with linear regression modeling.\n",
    "3. Learn the uses and limitations of RSS, ESS, TSS and $R^2$.\n",
    "4. Analyze and interpret nonidentifiability.\n",
    "\n",
    "General tips:\n",
    "\n",
    "1. Read the questions carefully to understand what is being asked.\n",
    "2. This work will be reviewed by another human, so make sure that you are clear and concise in what your explanations and answers."
   ]
  },
  {
   "cell_type": "code",
   "execution_count": 1,
   "metadata": {},
   "outputs": [
    {
     "name": "stderr",
     "output_type": "stream",
     "text": [
      "── \u001b[1mAttaching packages\u001b[22m ─────────────────────────────────────── tidyverse 1.3.0 ──\n",
      "\n",
      "\u001b[32m✔\u001b[39m \u001b[34mggplot2\u001b[39m 3.3.0     \u001b[32m✔\u001b[39m \u001b[34mpurrr  \u001b[39m 0.3.4\n",
      "\u001b[32m✔\u001b[39m \u001b[34mtibble \u001b[39m 3.0.1     \u001b[32m✔\u001b[39m \u001b[34mdplyr  \u001b[39m 0.8.5\n",
      "\u001b[32m✔\u001b[39m \u001b[34mtidyr  \u001b[39m 1.0.2     \u001b[32m✔\u001b[39m \u001b[34mstringr\u001b[39m 1.4.0\n",
      "\u001b[32m✔\u001b[39m \u001b[34mreadr  \u001b[39m 1.3.1     \u001b[32m✔\u001b[39m \u001b[34mforcats\u001b[39m 0.5.0\n",
      "\n",
      "── \u001b[1mConflicts\u001b[22m ────────────────────────────────────────── tidyverse_conflicts() ──\n",
      "\u001b[31m✖\u001b[39m \u001b[34mtidyr\u001b[39m::\u001b[32mcomplete()\u001b[39m masks \u001b[34mRCurl\u001b[39m::complete()\n",
      "\u001b[31m✖\u001b[39m \u001b[34mdplyr\u001b[39m::\u001b[32mfilter()\u001b[39m   masks \u001b[34mstats\u001b[39m::filter()\n",
      "\u001b[31m✖\u001b[39m \u001b[34mdplyr\u001b[39m::\u001b[32mlag()\u001b[39m      masks \u001b[34mstats\u001b[39m::lag()\n",
      "\n"
     ]
    }
   ],
   "source": [
    "# Load Required Packages\n",
    "library(RCurl) #a package that includes the function getURL(), which allows for reading data from github.\n",
    "library(tidyverse)"
   ]
  },
  {
   "cell_type": "markdown",
   "metadata": {},
   "source": [
    "## Problem 1: Maximum Likelihood Estimates (MLEs)\n",
    "\n",
    "Consider the simple linear regression model $Y_i = \\beta_0 + \\beta_1x_i + \\varepsilon_i$ for $i = 1,...,n$, $\\,\\,\\,\\varepsilon_i \\sim N(0,\\sigma^2)$. In the videos, we showed that the least squares estimator in matrix-vector form is $\\mathbf{\\widehat{\\beta}} = (\\beta_0, \\beta_1)^T = (X^TX)^{-1}X^T\\mathbf{Y}$. In this problem, you will derive the least squares estimators for simple linear regression without (explicitly) using linear algebra.\n",
    "\n",
    "Least squares requires that we minimize $$f(\\mathbf{x}; \\beta_0, \\beta_1) = \\sum^n_{i=1}\\bigg(Y_i - [\\beta_0 + \\beta_1x_i] \\bigg)^2$$ over $\\beta_0$ and $\\beta_1$. "
   ]
  },
  {
   "cell_type": "markdown",
   "metadata": {},
   "source": [
    "#### 1. (a) Taking Derivatives\n",
    "\n",
    "Find the partial derivative of $f(\\mathbf{x}; \\beta_0, \\beta_1)$ with respect to $\\beta_0$, and the partial derivative of $f(\\mathbf{x}; \\beta_0, \\beta_1)$ with respect to $\\beta_1$. Recall that the partial derivative with respect to $x$ of a multivariate function $h(x,y)$ is calculated by taking the derivative  of $h$ with respect to $x$ while treating $y$ constant."
   ]
  },
  {
   "cell_type": "markdown",
   "metadata": {},
   "source": [
    "$df(\\mathbf{x}; \\beta_0, \\beta_1)$ / $d\\beta_0$ = -$\\sum^n_{i=1}\\ 2 * [Yi - Beta0 - Beta1xi]$"
   ]
  },
  {
   "cell_type": "markdown",
   "metadata": {},
   "source": [
    "$df(\\mathbf{x}; \\beta_0, \\beta_1)$ / $d\\beta_1$ = -$\\sum^n_{i=1}\\ 2xi * [Yi - Beta0 - Beta1xi]$"
   ]
  },
  {
   "cell_type": "markdown",
   "metadata": {},
   "source": [
    "#### 1. (b) Solving for $\\hat{\\beta}_0$ and $\\hat{\\beta}_1$\n",
    "\n",
    "Use **1. (a)** to find the minimizers,  $\\widehat{\\beta}_0$ and $\\widehat{\\beta}_1$, of $f$. That is, set each partial derivative to zero and solve for $\\beta_0$ and $\\beta_1$. In particular, show\n",
    "\n",
    "$$\n",
    "\\widehat{\\beta}_1 = \\frac{\\sum^n_{i=1}(x_i - \\bar{x})(Y_i -\\bar{Y})}{\\sum^n_{i=1}(x_i - \\bar{x})^2} \n",
    "\\qquad \\text{ and } \\qquad\n",
    "\\widehat{\\beta}_0 = \\bar{Y} - \\widehat{\\beta}_1\\bar{x}\n",
    "$$"
   ]
  },
  {
   "cell_type": "markdown",
   "metadata": {},
   "source": [
    "Please see the attached scrap paper for my work"
   ]
  },
  {
   "cell_type": "markdown",
   "metadata": {},
   "source": [
    "## Problem 2: Oh My Goodness of Fit!\n",
    "\n",
    "In the US, public schools have been slowly increasing class sizes over the last 15 years [https://stats.oecd.org/Index.aspx?DataSetCode=EDU_CLASS]. The general cause for this is because it saves money to have more kids per teacher. But how much money does it save? Let's use some of our new regression skills to try and figure this out. Below is an explanation of the variables in the dataset.\n",
    "\n",
    "Variables/Columns:  \n",
    "School  \n",
    "Per-Pupil Cost  (Dollars)   \n",
    "Average daily Attendance   \n",
    "Average Monthly Teacher Salary (Dollars)  \n",
    "Percent Attendance       \n",
    "Pupil/Teacher ratio   \n",
    "\n",
    "Data Source: E.R. Enlow (1938). \"Do Small Schools Mean Large Costs?,\" Peabody Journal of Educaltion, Vol. 16, \\#1, pp. 1-11"
   ]
  },
  {
   "cell_type": "code",
   "execution_count": 2,
   "metadata": {
    "scrolled": false
   },
   "outputs": [
    {
     "name": "stderr",
     "output_type": "stream",
     "text": [
      "Parsed with column specification:\n",
      "cols(\n",
      "  Adair = \u001b[31mcol_character()\u001b[39m,\n",
      "  `66.90` = \u001b[32mcol_double()\u001b[39m,\n",
      "  `451.4` = \u001b[32mcol_double()\u001b[39m,\n",
      "  `160.22` = \u001b[32mcol_double()\u001b[39m,\n",
      "  `90.77` = \u001b[32mcol_double()\u001b[39m,\n",
      "  `33.8` = \u001b[32mcol_double()\u001b[39m\n",
      ")\n",
      "\n"
     ]
    },
    {
     "data": {
      "text/html": [
       "<table>\n",
       "<caption>A tibble: 6 × 6</caption>\n",
       "<thead>\n",
       "\t<tr><th scope=col>school</th><th scope=col>cost</th><th scope=col>avg.attendance</th><th scope=col>avg.salary</th><th scope=col>pct.attendance</th><th scope=col>pup.tch.ratio</th></tr>\n",
       "\t<tr><th scope=col>&lt;chr&gt;</th><th scope=col>&lt;dbl&gt;</th><th scope=col>&lt;dbl&gt;</th><th scope=col>&lt;dbl&gt;</th><th scope=col>&lt;dbl&gt;</th><th scope=col>&lt;dbl&gt;</th></tr>\n",
       "</thead>\n",
       "<tbody>\n",
       "\t<tr><td>Calhoun     </td><td>108.57</td><td>219.1</td><td>161.79</td><td>89.86</td><td>23.0</td></tr>\n",
       "\t<tr><td>Capitol View</td><td> 70.00</td><td>268.9</td><td>136.37</td><td>92.44</td><td>29.4</td></tr>\n",
       "\t<tr><td>Connally    </td><td> 49.04</td><td>161.7</td><td>106.86</td><td>92.01</td><td>29.4</td></tr>\n",
       "\t<tr><td>Couch       </td><td> 71.51</td><td>422.1</td><td>147.17</td><td>91.60</td><td>29.2</td></tr>\n",
       "\t<tr><td>Crew        </td><td> 61.08</td><td>440.6</td><td>146.24</td><td>89.32</td><td>36.3</td></tr>\n",
       "\t<tr><td>Davis       </td><td>105.21</td><td>139.4</td><td>159.79</td><td>86.51</td><td>22.6</td></tr>\n",
       "</tbody>\n",
       "</table>\n"
      ],
      "text/latex": [
       "A tibble: 6 × 6\n",
       "\\begin{tabular}{llllll}\n",
       " school & cost & avg.attendance & avg.salary & pct.attendance & pup.tch.ratio\\\\\n",
       " <chr> & <dbl> & <dbl> & <dbl> & <dbl> & <dbl>\\\\\n",
       "\\hline\n",
       "\t Calhoun      & 108.57 & 219.1 & 161.79 & 89.86 & 23.0\\\\\n",
       "\t Capitol View &  70.00 & 268.9 & 136.37 & 92.44 & 29.4\\\\\n",
       "\t Connally     &  49.04 & 161.7 & 106.86 & 92.01 & 29.4\\\\\n",
       "\t Couch        &  71.51 & 422.1 & 147.17 & 91.60 & 29.2\\\\\n",
       "\t Crew         &  61.08 & 440.6 & 146.24 & 89.32 & 36.3\\\\\n",
       "\t Davis        & 105.21 & 139.4 & 159.79 & 86.51 & 22.6\\\\\n",
       "\\end{tabular}\n"
      ],
      "text/markdown": [
       "\n",
       "A tibble: 6 × 6\n",
       "\n",
       "| school &lt;chr&gt; | cost &lt;dbl&gt; | avg.attendance &lt;dbl&gt; | avg.salary &lt;dbl&gt; | pct.attendance &lt;dbl&gt; | pup.tch.ratio &lt;dbl&gt; |\n",
       "|---|---|---|---|---|---|\n",
       "| Calhoun      | 108.57 | 219.1 | 161.79 | 89.86 | 23.0 |\n",
       "| Capitol View |  70.00 | 268.9 | 136.37 | 92.44 | 29.4 |\n",
       "| Connally     |  49.04 | 161.7 | 106.86 | 92.01 | 29.4 |\n",
       "| Couch        |  71.51 | 422.1 | 147.17 | 91.60 | 29.2 |\n",
       "| Crew         |  61.08 | 440.6 | 146.24 | 89.32 | 36.3 |\n",
       "| Davis        | 105.21 | 139.4 | 159.79 | 86.51 | 22.6 |\n",
       "\n"
      ],
      "text/plain": [
       "  school       cost   avg.attendance avg.salary pct.attendance pup.tch.ratio\n",
       "1 Calhoun      108.57 219.1          161.79     89.86          23.0         \n",
       "2 Capitol View  70.00 268.9          136.37     92.44          29.4         \n",
       "3 Connally      49.04 161.7          106.86     92.01          29.4         \n",
       "4 Couch         71.51 422.1          147.17     91.60          29.2         \n",
       "5 Crew          61.08 440.6          146.24     89.32          36.3         \n",
       "6 Davis        105.21 139.4          159.79     86.51          22.6         "
      ]
     },
     "metadata": {},
     "output_type": "display_data"
    },
    {
     "data": {
      "text/html": [
       "<style>\n",
       ".list-inline {list-style: none; margin:0; padding: 0}\n",
       ".list-inline>li {display: inline-block}\n",
       ".list-inline>li:not(:last-child)::after {content: \"\\00b7\"; padding: 0 .5ex}\n",
       "</style>\n",
       "<ol class=list-inline><li>43</li><li>6</li></ol>\n"
      ],
      "text/latex": [
       "\\begin{enumerate*}\n",
       "\\item 43\n",
       "\\item 6\n",
       "\\end{enumerate*}\n"
      ],
      "text/markdown": [
       "1. 43\n",
       "2. 6\n",
       "\n",
       "\n"
      ],
      "text/plain": [
       "[1] 43  6"
      ]
     },
     "metadata": {},
     "output_type": "display_data"
    }
   ],
   "source": [
    "school.data = read_table(\"school.dat\")\n",
    "names(school.data) = c(\"school\", \"cost\", \"avg.attendance\", \"avg.salary\", \"pct.attendance\", \"pup.tch.ratio\")\n",
    "head(school.data)\n",
    "dim(school.data)"
   ]
  },
  {
   "cell_type": "markdown",
   "metadata": {},
   "source": [
    "#### 2. (a) Create a model\n",
    "\n",
    "Begin by creating two figures for your model. The first with `pup.tch.ratio` on the x-axis and `cost` on the y-axis. The second with `avg.salary` on the x-axis and `cost` on the y-axis. Does there appear to be a relation between these two predictors and the response.\n",
    "\n",
    "Then fit a multiple linear regression model with `cost` as the response and `pup.tch.ratio` and `avg.salary` as predictors."
   ]
  },
  {
   "cell_type": "code",
   "execution_count": 7,
   "metadata": {},
   "outputs": [
    {
     "data": {
      "image/png": "[encoded data removed]",
      "text/plain": [
       "plot without title"
      ]
     },
     "metadata": {
      "image/png": {
       "height": 420,
       "width": 420
      },
      "text/plain": {
       "height": 420,
       "width": 420
      }
     },
     "output_type": "display_data"
    },
    {
     "data": {
      "text/plain": [
       "\n",
       "Call:\n",
       "lm(formula = cost ~ pup.tch.ratio + avg.salary, data = school.data)\n",
       "\n",
       "Coefficients:\n",
       "  (Intercept)  pup.tch.ratio     avg.salary  \n",
       "     120.2376        -2.8259         0.2406  \n"
      ]
     },
     "metadata": {},
     "output_type": "display_data"
    },
    {
     "data": {
      "image/png": "[encoded data removed]",
      "text/plain": [
       "plot without title"
      ]
     },
     "metadata": {
      "image/png": {
       "height": 420,
       "width": 420
      },
      "text/plain": {
       "height": 420,
       "width": 420
      }
     },
     "output_type": "display_data"
    }
   ],
   "source": [
    "# Your Code Here\n",
    "ggplot(school.data, aes(x=pup.tch.ratio, y=cost)) + \n",
    "    # This function adds the points for the scatterplot\n",
    "    geom_point() +\n",
    "    # This function adds the title (and potentially other labels)\n",
    "    labs(title=\"Teacher Ratio and Cost\")\n",
    "    \n",
    "ggplot(school.data, aes(x=avg.salary, y=cost)) + \n",
    "    # This function adds the points for the scatterplot\n",
    "    geom_point() +\n",
    "    # This function adds the title (and potentially other labels)\n",
    "    labs(title=\"Average Salary and Cost\")\n",
    "    \n",
    "mlr_model = lm(cost ~ pup.tch.ratio + avg.salary, data = school.data)\n",
    "mlr_model"
   ]
  },
  {
   "cell_type": "markdown",
   "metadata": {},
   "source": [
    "#### 2. (b) RSS, ESS and TSS\n",
    "\n",
    "In the code block below, manually calculate the RSS, ESS and TSS for your MLR model. Print the results."
   ]
  },
  {
   "cell_type": "code",
   "execution_count": 10,
   "metadata": {},
   "outputs": [
    {
     "data": {
      "text/html": [
       "4188.56832698776"
      ],
      "text/latex": [
       "4188.56832698776"
      ],
      "text/markdown": [
       "4188.56832698776"
      ],
      "text/plain": [
       "[1] 4188.568"
      ]
     },
     "metadata": {},
     "output_type": "display_data"
    },
    {
     "data": {
      "text/html": [
       "2384.59693812852"
      ],
      "text/latex": [
       "2384.59693812852"
      ],
      "text/markdown": [
       "2384.59693812852"
      ],
      "text/plain": [
       "[1] 2384.597"
      ]
     },
     "metadata": {},
     "output_type": "display_data"
    },
    {
     "data": {
      "text/html": [
       "6573.16526511628"
      ],
      "text/latex": [
       "6573.16526511628"
      ],
      "text/markdown": [
       "6573.16526511628"
      ],
      "text/plain": [
       "[1] 6573.165"
      ]
     },
     "metadata": {},
     "output_type": "display_data"
    }
   ],
   "source": [
    "# Your Code Here\n",
    "ess = sum((fitted(mlr_model) - mean(school.data$cost))^2)\n",
    "rss = sum(residuals(mlr_model)^2)\n",
    "tss = with(school.data, sum((cost - mean(cost))^2))\n",
    "ess\n",
    "rss\n",
    "tss"
   ]
  },
  {
   "cell_type": "markdown",
   "metadata": {},
   "source": [
    "#### 2. (c) Are you Squared?\n",
    "\n",
    "Using the values from **2.b**, calculate the $R^2$ value for your model. Check your results with those produced from the `summary()` statement of your model.\n",
    "\n",
    "In words, describe what this value means for your model."
   ]
  },
  {
   "cell_type": "code",
   "execution_count": 13,
   "metadata": {},
   "outputs": [
    {
     "data": {
      "text/html": [
       "0.637222427559588"
      ],
      "text/latex": [
       "0.637222427559588"
      ],
      "text/markdown": [
       "0.637222427559588"
      ],
      "text/plain": [
       "[1] 0.6372224"
      ]
     },
     "metadata": {},
     "output_type": "display_data"
    },
    {
     "data": {
      "text/plain": [
       "\n",
       "Call:\n",
       "lm(formula = cost ~ pup.tch.ratio + avg.salary, data = school.data)\n",
       "\n",
       "Residuals:\n",
       "     Min       1Q   Median       3Q      Max \n",
       "-13.8290  -5.2752  -0.8332   3.8253  19.6986 \n",
       "\n",
       "Coefficients:\n",
       "               Estimate Std. Error t value Pr(>|t|)    \n",
       "(Intercept)   120.23756   17.73230   6.781 3.79e-08 ***\n",
       "pup.tch.ratio  -2.82585    0.37714  -7.493 3.90e-09 ***\n",
       "avg.salary      0.24061    0.08396   2.866   0.0066 ** \n",
       "---\n",
       "Signif. codes:  0 ‘***’ 0.001 ‘**’ 0.01 ‘*’ 0.05 ‘.’ 0.1 ‘ ’ 1\n",
       "\n",
       "Residual standard error: 7.721 on 40 degrees of freedom\n",
       "Multiple R-squared:  0.6372,\tAdjusted R-squared:  0.6191 \n",
       "F-statistic: 35.13 on 2 and 40 DF,  p-value: 1.559e-09\n"
      ]
     },
     "metadata": {},
     "output_type": "display_data"
    }
   ],
   "source": [
    "# Your Code Here\n",
    "r2 = 1-rss/tss\n",
    "r2\n",
    "summary(mlr_model)"
   ]
  },
  {
   "cell_type": "markdown",
   "metadata": {},
   "source": [
    "The R2 is showing that the model is explaining some of the variability in the data.  There could be other predictors in the model that I should use to increase R2 or better explain the variability."
   ]
  },
  {
   "cell_type": "markdown",
   "metadata": {},
   "source": [
    "#### 2. (d) Conclusions\n",
    "\n",
    "Describe at least two advantages and two disadvantages of the $R^2$ value."
   ]
  },
  {
   "cell_type": "markdown",
   "metadata": {},
   "source": [
    "Disadvantages:\n",
    "1) R-squared does not measure goodness of fit. It can be low when the model is completely correct.  \n",
    "2) Or viceversa.  It can be high when the model is incorrect\n",
    "\n",
    "Advantages:\n",
    "1) A benefit of R-squared is that it can prevent you from overfitting a model (or using too many predictors).\n",
    "2) It measures how significantly the slope of the fitted line differs from zero.  It is usefuly in comparing predictors."
   ]
  },
  {
   "cell_type": "markdown",
   "metadata": {},
   "source": [
    "# Problem 3: Identifiability\n",
    "\n",
    "**This problem might require some outside-of-class research if you haven't taken a linear algebra/matrix methods course.**\n",
    "\n",
    "Matrices and vectors play an important role in linear regression. Let's review some matrix theory as it might relate to linear regression.\n",
    "\n",
    "Consider the system of linear equations \n",
    "\n",
    "\\begin{equation} \n",
    "Y_i = \\beta_0 + \\sum^p_{j=1}\\beta_j x_{i,j} + \\varepsilon_i,\n",
    "\\end{equation}\n",
    "for $i = 1,...,n$, where $n$ is the number of data points (measurements in the sample), and $j = 1,...,p$, where \n",
    "\n",
    "1. $p+1$ is the number of parameters in the model. \n",
    "2. $Y_i$ is the $i^{th}$ measurement of the *response variable*.\n",
    "3. $x_{i,j}$ is the $i^{th}$ measurement of the $j^{th}$ *predictor variable*.\n",
    "4. $\\varepsilon_i$ is the $i^{th}$ *error term* and is a random variable, often assumed to be $N(0, \\sigma^2)$. \n",
    "5. $\\beta_j$, $j = 0,...,p$ are *unknown parameters* of the model. We hope to estimate these, which would help us characterize the relationship between the predictors and response."
   ]
  },
  {
   "cell_type": "markdown",
   "metadata": {},
   "source": [
    "#### 3. (a) MLR Matrix Form\n",
    "\n",
    "Write the equation above in matrix vector form. Call the matrix including the predictors $X$, the vector of $Y_i$s $\\mathbf{Y}$, the vector of parameters $\\mathbf{\\beta}$, and the vector of error terms $\\mathbf{\\varepsilon}$. (This is more LaTeX practice than anything else...)**"
   ]
  },
  {
   "cell_type": "markdown",
   "metadata": {},
   "source": [
    "Y = X * Beta + error"
   ]
  },
  {
   "cell_type": "markdown",
   "metadata": {},
   "source": [
    "#### 3. (b) Properties of this matrix\n",
    "\n",
    "In lecture, we will find that the OLS estimator for $\\mathbf{\\beta}$ in MLR is $\\widehat{\\boldsymbol\\beta} = (X^TX)^{-1}X^T\\mathbf{Y}$. Use this knowledge to answer the following questions:\n",
    "\n",
    "\n",
    "1. What condition must be true about the columns of $X$ for the \"Gram\" matrix $X^TX$ to be invertible? \n",
    "\n",
    "2. What does this condition mean in practical terms, i.e., does $X$ contain a deficiency or redundancy?\n",
    "\n",
    "3. Suppose that the number of measurements ($n$) is less than the number of model parameters ($p+1$). What does this say about the invertibility of $X^TX$? What does this mean on a practical level?\n",
    "\n",
    "4. What is true about about $\\widehat{\\boldsymbol\\beta}$ if $X^TX$ is not invertible?"
   ]
  },
  {
   "cell_type": "markdown",
   "metadata": {},
   "source": [
    "1. In order for the Gram matrix to be invertible, the columns of the matrix have to be linearly independent \n",
    "2. No attribute is a linear combination of the other attributes. If a column could\n",
    "be expressed as a linear combination of other columns it would mean that the information of\n",
    "that column is redundant\n",
    "3. The columns are not linearly independent and the Gram matrix is not invertible\n",
    "4. This implies that there are multiple possibilities of b\f",
    " that minimize the\n",
    "RSS"
   ]
  },
  {
   "cell_type": "markdown",
   "metadata": {},
   "source": [
    "## Problem 4: Downloading...\n",
    "\n",
    "The following [data](https://dasl.datadescription.com/datafile/downloading/) were collected to see if time of day madea difference on file download speed. A researcher placed a file on a remote server and then proceeded to download it at three different time periods of the day. They downloaded the file 48 times in all, 16 times at each Time of Day (`time`), and recorded the Time in seconds (`speed`) that the download took."
   ]
  },
  {
   "cell_type": "markdown",
   "metadata": {},
   "source": [
    "#### 4. (a) Initial Observations\n",
    "\n",
    "The `downloading` data is loaded in and cleaned for you. Using `ggplot`, create a boxplot of `speed` vs. `time`. Make some basic observations about the three categories."
   ]
  },
  {
   "cell_type": "code",
   "execution_count": 14,
   "metadata": {},
   "outputs": [
    {
     "data": {
      "text/plain": [
       "                 time        speed      \n",
       " Early (7AM)       :16   Min.   : 68.0  \n",
       " Evening (5 PM)    :16   1st Qu.:129.8  \n",
       " Late Night (12 AM):16   Median :198.0  \n",
       "                         Mean   :193.2  \n",
       "                         3rd Qu.:253.0  \n",
       "                         Max.   :367.0  "
      ]
     },
     "metadata": {},
     "output_type": "display_data"
    }
   ],
   "source": [
    "# Load in the data and format it\n",
    "downloading = read.csv(\"downloading.txt\", sep=\"\\t\")\n",
    "names(downloading) = c(\"time\", \"speed\")\n",
    "# Change the types of brand and form to categories, instead of real numbers\n",
    "downloading$time = as.factor(downloading$time)\n",
    "summary(downloading)"
   ]
  },
  {
   "cell_type": "code",
   "execution_count": 15,
   "metadata": {},
   "outputs": [
    {
     "data": {
      "text/plain": [
       "\n",
       "Call:\n",
       "lm(formula = speed ~ time, data = downloading)\n",
       "\n",
       "Residuals:\n",
       "    Min      1Q  Median      3Q     Max \n",
       "-83.312 -34.328  -5.187  26.250 103.625 \n",
       "\n",
       "Coefficients:\n",
       "                       Estimate Std. Error t value Pr(>|t|)    \n",
       "(Intercept)              113.37      11.79   9.619 1.73e-12 ***\n",
       "timeEvening (5 PM)       159.94      16.67   9.595 1.87e-12 ***\n",
       "timeLate Night (12 AM)    79.69      16.67   4.781 1.90e-05 ***\n",
       "---\n",
       "Signif. codes:  0 ‘***’ 0.001 ‘**’ 0.01 ‘*’ 0.05 ‘.’ 0.1 ‘ ’ 1\n",
       "\n",
       "Residual standard error: 47.15 on 45 degrees of freedom\n",
       "Multiple R-squared:  0.6717,\tAdjusted R-squared:  0.6571 \n",
       "F-statistic: 46.03 on 2 and 45 DF,  p-value: 1.306e-11\n"
      ]
     },
     "metadata": {},
     "output_type": "display_data"
    }
   ],
   "source": [
    "summary(lm(speed ~ time, data = downloading))"
   ]
  },
  {
   "cell_type": "code",
   "execution_count": 21,
   "metadata": {},
   "outputs": [
    {
     "data": {
      "image/png": "[encoded data removed]",
      "text/plain": [
       "Plot with title “Speed vs Time”"
      ]
     },
     "metadata": {
      "image/png": {
       "height": 420,
       "width": 420
      },
      "text/plain": {
       "height": 420,
       "width": 420
      }
     },
     "output_type": "display_data"
    }
   ],
   "source": [
    "#par(mfrow = c(1,2))\n",
    "boxplot(downloading$speed ~ downloading$time, main = 'Speed vs Time', col = \"#CFB87C\")"
   ]
  },
  {
   "cell_type": "markdown",
   "metadata": {},
   "source": [
    "Download speed is worst in the 'Evening' and best 'Early' in the day."
   ]
  },
  {
   "cell_type": "markdown",
   "metadata": {},
   "source": [
    "#### 4. (b) How would we model this?\n",
    "\n",
    "Fit a regression to these data that uses `speed` as the response and `time` as the predictor. Print the summary. Notice that the result is actually *multiple* linear regression, not simple linear regression. The model being used here is:\n",
    "\n",
    "\\begin{align*}\n",
    "Y_i = \\beta_0 + \\beta_1 X_{i,1} + \\beta_2 X_{i,2} + \\varepsilon_i\n",
    "\\end{align*}\n",
    "\n",
    "where \n",
    "\n",
    "1. $X_{i,1} = 1$ if the $i^{th}$ download is made in the evening (5 pm).\n",
    "2.  $X_{i,2} = 1$ if the $i^{th}$ download is made at night (12 am).\n",
    "\n",
    "Note: If $X_{i,1} = 0$ and $X_{i,2} = 0$, then the $i^{th}$ download is made in the morning (7am).\n",
    "\n",
    "**To confirm this is the model being used, write out the explicit equation for your model - using the parameter estimates from part (a) - and print out it's design matrix.**"
   ]
  },
  {
   "cell_type": "code",
   "execution_count": 22,
   "metadata": {},
   "outputs": [
    {
     "data": {
      "text/plain": [
       "\n",
       "Call:\n",
       "lm(formula = speed ~ time, data = downloading)\n",
       "\n",
       "Residuals:\n",
       "    Min      1Q  Median      3Q     Max \n",
       "-83.312 -34.328  -5.187  26.250 103.625 \n",
       "\n",
       "Coefficients:\n",
       "                       Estimate Std. Error t value Pr(>|t|)    \n",
       "(Intercept)              113.37      11.79   9.619 1.73e-12 ***\n",
       "timeEvening (5 PM)       159.94      16.67   9.595 1.87e-12 ***\n",
       "timeLate Night (12 AM)    79.69      16.67   4.781 1.90e-05 ***\n",
       "---\n",
       "Signif. codes:  0 ‘***’ 0.001 ‘**’ 0.01 ‘*’ 0.05 ‘.’ 0.1 ‘ ’ 1\n",
       "\n",
       "Residual standard error: 47.15 on 45 degrees of freedom\n",
       "Multiple R-squared:  0.6717,\tAdjusted R-squared:  0.6571 \n",
       "F-statistic: 46.03 on 2 and 45 DF,  p-value: 1.306e-11\n"
      ]
     },
     "metadata": {},
     "output_type": "display_data"
    }
   ],
   "source": [
    "# Your Code Here\n",
    "summary(lm(speed ~ time, data = downloading))"
   ]
  },
  {
   "cell_type": "code",
   "execution_count": 28,
   "metadata": {},
   "outputs": [
    {
     "data": {
      "text/html": [
       "<table>\n",
       "<caption>A data.frame: 48 × 3</caption>\n",
       "<thead>\n",
       "\t<tr><th scope=col>speed</th><th scope=col>evening_time</th><th scope=col>late_time</th></tr>\n",
       "\t<tr><th scope=col>&lt;int&gt;</th><th scope=col>&lt;dbl&gt;</th><th scope=col>&lt;dbl&gt;</th></tr>\n",
       "</thead>\n",
       "<tbody>\n",
       "\t<tr><td> 68</td><td>0</td><td>0</td></tr>\n",
       "\t<tr><td>138</td><td>0</td><td>0</td></tr>\n",
       "\t<tr><td> 75</td><td>0</td><td>0</td></tr>\n",
       "\t<tr><td>186</td><td>0</td><td>0</td></tr>\n",
       "\t<tr><td> 68</td><td>0</td><td>0</td></tr>\n",
       "\t<tr><td>217</td><td>0</td><td>0</td></tr>\n",
       "\t<tr><td> 93</td><td>0</td><td>0</td></tr>\n",
       "\t<tr><td> 90</td><td>0</td><td>0</td></tr>\n",
       "\t<tr><td> 71</td><td>0</td><td>0</td></tr>\n",
       "\t<tr><td>154</td><td>0</td><td>0</td></tr>\n",
       "\t<tr><td>166</td><td>0</td><td>0</td></tr>\n",
       "\t<tr><td>130</td><td>0</td><td>0</td></tr>\n",
       "\t<tr><td> 72</td><td>0</td><td>0</td></tr>\n",
       "\t<tr><td> 81</td><td>0</td><td>0</td></tr>\n",
       "\t<tr><td> 76</td><td>0</td><td>0</td></tr>\n",
       "\t<tr><td>129</td><td>0</td><td>0</td></tr>\n",
       "\t<tr><td>299</td><td>1</td><td>0</td></tr>\n",
       "\t<tr><td>367</td><td>1</td><td>0</td></tr>\n",
       "\t<tr><td>331</td><td>1</td><td>0</td></tr>\n",
       "\t<tr><td>257</td><td>1</td><td>0</td></tr>\n",
       "\t<tr><td>260</td><td>1</td><td>0</td></tr>\n",
       "\t<tr><td>269</td><td>1</td><td>0</td></tr>\n",
       "\t<tr><td>252</td><td>1</td><td>0</td></tr>\n",
       "\t<tr><td>200</td><td>1</td><td>0</td></tr>\n",
       "\t<tr><td>296</td><td>1</td><td>0</td></tr>\n",
       "\t<tr><td>204</td><td>1</td><td>0</td></tr>\n",
       "\t<tr><td>190</td><td>1</td><td>0</td></tr>\n",
       "\t<tr><td>240</td><td>1</td><td>0</td></tr>\n",
       "\t<tr><td>350</td><td>1</td><td>0</td></tr>\n",
       "\t<tr><td>256</td><td>1</td><td>0</td></tr>\n",
       "\t<tr><td>282</td><td>1</td><td>0</td></tr>\n",
       "\t<tr><td>320</td><td>1</td><td>0</td></tr>\n",
       "\t<tr><td>216</td><td>0</td><td>1</td></tr>\n",
       "\t<tr><td>175</td><td>0</td><td>1</td></tr>\n",
       "\t<tr><td>274</td><td>0</td><td>1</td></tr>\n",
       "\t<tr><td>171</td><td>0</td><td>1</td></tr>\n",
       "\t<tr><td>187</td><td>0</td><td>1</td></tr>\n",
       "\t<tr><td>213</td><td>0</td><td>1</td></tr>\n",
       "\t<tr><td>221</td><td>0</td><td>1</td></tr>\n",
       "\t<tr><td>139</td><td>0</td><td>1</td></tr>\n",
       "\t<tr><td>226</td><td>0</td><td>1</td></tr>\n",
       "\t<tr><td>128</td><td>0</td><td>1</td></tr>\n",
       "\t<tr><td>236</td><td>0</td><td>1</td></tr>\n",
       "\t<tr><td>128</td><td>0</td><td>1</td></tr>\n",
       "\t<tr><td>217</td><td>0</td><td>1</td></tr>\n",
       "\t<tr><td>196</td><td>0</td><td>1</td></tr>\n",
       "\t<tr><td>201</td><td>0</td><td>1</td></tr>\n",
       "\t<tr><td>161</td><td>0</td><td>1</td></tr>\n",
       "</tbody>\n",
       "</table>\n"
      ],
      "text/latex": [
       "A data.frame: 48 × 3\n",
       "\\begin{tabular}{lll}\n",
       " speed & evening\\_time & late\\_time\\\\\n",
       " <int> & <dbl> & <dbl>\\\\\n",
       "\\hline\n",
       "\t  68 & 0 & 0\\\\\n",
       "\t 138 & 0 & 0\\\\\n",
       "\t  75 & 0 & 0\\\\\n",
       "\t 186 & 0 & 0\\\\\n",
       "\t  68 & 0 & 0\\\\\n",
       "\t 217 & 0 & 0\\\\\n",
       "\t  93 & 0 & 0\\\\\n",
       "\t  90 & 0 & 0\\\\\n",
       "\t  71 & 0 & 0\\\\\n",
       "\t 154 & 0 & 0\\\\\n",
       "\t 166 & 0 & 0\\\\\n",
       "\t 130 & 0 & 0\\\\\n",
       "\t  72 & 0 & 0\\\\\n",
       "\t  81 & 0 & 0\\\\\n",
       "\t  76 & 0 & 0\\\\\n",
       "\t 129 & 0 & 0\\\\\n",
       "\t 299 & 1 & 0\\\\\n",
       "\t 367 & 1 & 0\\\\\n",
       "\t 331 & 1 & 0\\\\\n",
       "\t 257 & 1 & 0\\\\\n",
       "\t 260 & 1 & 0\\\\\n",
       "\t 269 & 1 & 0\\\\\n",
       "\t 252 & 1 & 0\\\\\n",
       "\t 200 & 1 & 0\\\\\n",
       "\t 296 & 1 & 0\\\\\n",
       "\t 204 & 1 & 0\\\\\n",
       "\t 190 & 1 & 0\\\\\n",
       "\t 240 & 1 & 0\\\\\n",
       "\t 350 & 1 & 0\\\\\n",
       "\t 256 & 1 & 0\\\\\n",
       "\t 282 & 1 & 0\\\\\n",
       "\t 320 & 1 & 0\\\\\n",
       "\t 216 & 0 & 1\\\\\n",
       "\t 175 & 0 & 1\\\\\n",
       "\t 274 & 0 & 1\\\\\n",
       "\t 171 & 0 & 1\\\\\n",
       "\t 187 & 0 & 1\\\\\n",
       "\t 213 & 0 & 1\\\\\n",
       "\t 221 & 0 & 1\\\\\n",
       "\t 139 & 0 & 1\\\\\n",
       "\t 226 & 0 & 1\\\\\n",
       "\t 128 & 0 & 1\\\\\n",
       "\t 236 & 0 & 1\\\\\n",
       "\t 128 & 0 & 1\\\\\n",
       "\t 217 & 0 & 1\\\\\n",
       "\t 196 & 0 & 1\\\\\n",
       "\t 201 & 0 & 1\\\\\n",
       "\t 161 & 0 & 1\\\\\n",
       "\\end{tabular}\n"
      ],
      "text/markdown": [
       "\n",
       "A data.frame: 48 × 3\n",
       "\n",
       "| speed &lt;int&gt; | evening_time &lt;dbl&gt; | late_time &lt;dbl&gt; |\n",
       "|---|---|---|\n",
       "|  68 | 0 | 0 |\n",
       "| 138 | 0 | 0 |\n",
       "|  75 | 0 | 0 |\n",
       "| 186 | 0 | 0 |\n",
       "|  68 | 0 | 0 |\n",
       "| 217 | 0 | 0 |\n",
       "|  93 | 0 | 0 |\n",
       "|  90 | 0 | 0 |\n",
       "|  71 | 0 | 0 |\n",
       "| 154 | 0 | 0 |\n",
       "| 166 | 0 | 0 |\n",
       "| 130 | 0 | 0 |\n",
       "|  72 | 0 | 0 |\n",
       "|  81 | 0 | 0 |\n",
       "|  76 | 0 | 0 |\n",
       "| 129 | 0 | 0 |\n",
       "| 299 | 1 | 0 |\n",
       "| 367 | 1 | 0 |\n",
       "| 331 | 1 | 0 |\n",
       "| 257 | 1 | 0 |\n",
       "| 260 | 1 | 0 |\n",
       "| 269 | 1 | 0 |\n",
       "| 252 | 1 | 0 |\n",
       "| 200 | 1 | 0 |\n",
       "| 296 | 1 | 0 |\n",
       "| 204 | 1 | 0 |\n",
       "| 190 | 1 | 0 |\n",
       "| 240 | 1 | 0 |\n",
       "| 350 | 1 | 0 |\n",
       "| 256 | 1 | 0 |\n",
       "| 282 | 1 | 0 |\n",
       "| 320 | 1 | 0 |\n",
       "| 216 | 0 | 1 |\n",
       "| 175 | 0 | 1 |\n",
       "| 274 | 0 | 1 |\n",
       "| 171 | 0 | 1 |\n",
       "| 187 | 0 | 1 |\n",
       "| 213 | 0 | 1 |\n",
       "| 221 | 0 | 1 |\n",
       "| 139 | 0 | 1 |\n",
       "| 226 | 0 | 1 |\n",
       "| 128 | 0 | 1 |\n",
       "| 236 | 0 | 1 |\n",
       "| 128 | 0 | 1 |\n",
       "| 217 | 0 | 1 |\n",
       "| 196 | 0 | 1 |\n",
       "| 201 | 0 | 1 |\n",
       "| 161 | 0 | 1 |\n",
       "\n"
      ],
      "text/plain": [
       "   speed evening_time late_time\n",
       "1   68   0            0        \n",
       "2  138   0            0        \n",
       "3   75   0            0        \n",
       "4  186   0            0        \n",
       "5   68   0            0        \n",
       "6  217   0            0        \n",
       "7   93   0            0        \n",
       "8   90   0            0        \n",
       "9   71   0            0        \n",
       "10 154   0            0        \n",
       "11 166   0            0        \n",
       "12 130   0            0        \n",
       "13  72   0            0        \n",
       "14  81   0            0        \n",
       "15  76   0            0        \n",
       "16 129   0            0        \n",
       "17 299   1            0        \n",
       "18 367   1            0        \n",
       "19 331   1            0        \n",
       "20 257   1            0        \n",
       "21 260   1            0        \n",
       "22 269   1            0        \n",
       "23 252   1            0        \n",
       "24 200   1            0        \n",
       "25 296   1            0        \n",
       "26 204   1            0        \n",
       "27 190   1            0        \n",
       "28 240   1            0        \n",
       "29 350   1            0        \n",
       "30 256   1            0        \n",
       "31 282   1            0        \n",
       "32 320   1            0        \n",
       "33 216   0            1        \n",
       "34 175   0            1        \n",
       "35 274   0            1        \n",
       "36 171   0            1        \n",
       "37 187   0            1        \n",
       "38 213   0            1        \n",
       "39 221   0            1        \n",
       "40 139   0            1        \n",
       "41 226   0            1        \n",
       "42 128   0            1        \n",
       "43 236   0            1        \n",
       "44 128   0            1        \n",
       "45 217   0            1        \n",
       "46 196   0            1        \n",
       "47 201   0            1        \n",
       "48 161   0            1        "
      ]
     },
     "metadata": {},
     "output_type": "display_data"
    }
   ],
   "source": [
    "downloading$early_time = as.numeric(downloading$time ==\"Early (7AM)\")\n",
    "downloading$evening_time = as.numeric(downloading$time ==\"Evening (5 PM)\")\n",
    "downloading$late_time = as.numeric(downloading$time ==\"Late Night (12 AM)\")\n",
    "downloading_matrix = select(downloading,speed,evening_time,late_time)\n",
    "downloading_matrix\n"
   ]
  },
  {
   "cell_type": "code",
   "execution_count": 30,
   "metadata": {},
   "outputs": [
    {
     "data": {
      "text/plain": [
       "\n",
       "Call:\n",
       "lm(formula = speed ~ evening_time + late_time, data = downloading_matrix)\n",
       "\n",
       "Coefficients:\n",
       " (Intercept)  evening_time     late_time  \n",
       "      113.37        159.94         79.69  \n"
      ]
     },
     "metadata": {},
     "output_type": "display_data"
    }
   ],
   "source": [
    "model = lm(speed ~ evening_time + late_time, downloading_matrix)\n",
    "model"
   ]
  },
  {
   "cell_type": "markdown",
   "metadata": {},
   "source": [
    "The model is:\n",
    "Yi = 113.37 + 159.94Xi,1 + 79.69Xi,2\n",
    "Yi is the speed and Xi,1 and Xi,2 are evening_time and late_time"
   ]
  },
  {
   "cell_type": "markdown",
   "metadata": {},
   "source": [
    "#### 4. (c) Only two predictors?\n",
    "\n",
    "We have three categories, but only two predictors. Why is this the case? To address this question, let's consider the following model:\n",
    "\n",
    "$$ Y_i = \\beta_0 + \\beta_1 X_{i,1} + \\beta_2 X_{i,2} + \\beta_2 X_{i,3} + \\varepsilon_i $$\n",
    "\n",
    "where \n",
    "\n",
    "1. $X_{i,1} = 1$ if the $i^{th}$ download is made in the evening (5 pm).\n",
    "2. $X_{i,2} = 1$ if the $i^{th}$ download is made at night (12 am).\n",
    "3. $X_{i,3} = 1$ if the $i^{th}$ download is made in the morning (7 am).\n",
    "\n",
    "**Construct a design matrix to fit this model to the response, `speed`. Determine if something is wrong with it. Hint: Analyze the design matrix.**"
   ]
  },
  {
   "cell_type": "code",
   "execution_count": 31,
   "metadata": {},
   "outputs": [
    {
     "data": {
      "text/html": [
       "<table>\n",
       "<caption>A data.frame: 48 × 4</caption>\n",
       "<thead>\n",
       "\t<tr><th scope=col>speed</th><th scope=col>early_time</th><th scope=col>evening_time</th><th scope=col>late_time</th></tr>\n",
       "\t<tr><th scope=col>&lt;int&gt;</th><th scope=col>&lt;dbl&gt;</th><th scope=col>&lt;dbl&gt;</th><th scope=col>&lt;dbl&gt;</th></tr>\n",
       "</thead>\n",
       "<tbody>\n",
       "\t<tr><td> 68</td><td>1</td><td>0</td><td>0</td></tr>\n",
       "\t<tr><td>138</td><td>1</td><td>0</td><td>0</td></tr>\n",
       "\t<tr><td> 75</td><td>1</td><td>0</td><td>0</td></tr>\n",
       "\t<tr><td>186</td><td>1</td><td>0</td><td>0</td></tr>\n",
       "\t<tr><td> 68</td><td>1</td><td>0</td><td>0</td></tr>\n",
       "\t<tr><td>217</td><td>1</td><td>0</td><td>0</td></tr>\n",
       "\t<tr><td> 93</td><td>1</td><td>0</td><td>0</td></tr>\n",
       "\t<tr><td> 90</td><td>1</td><td>0</td><td>0</td></tr>\n",
       "\t<tr><td> 71</td><td>1</td><td>0</td><td>0</td></tr>\n",
       "\t<tr><td>154</td><td>1</td><td>0</td><td>0</td></tr>\n",
       "\t<tr><td>166</td><td>1</td><td>0</td><td>0</td></tr>\n",
       "\t<tr><td>130</td><td>1</td><td>0</td><td>0</td></tr>\n",
       "\t<tr><td> 72</td><td>1</td><td>0</td><td>0</td></tr>\n",
       "\t<tr><td> 81</td><td>1</td><td>0</td><td>0</td></tr>\n",
       "\t<tr><td> 76</td><td>1</td><td>0</td><td>0</td></tr>\n",
       "\t<tr><td>129</td><td>1</td><td>0</td><td>0</td></tr>\n",
       "\t<tr><td>299</td><td>0</td><td>1</td><td>0</td></tr>\n",
       "\t<tr><td>367</td><td>0</td><td>1</td><td>0</td></tr>\n",
       "\t<tr><td>331</td><td>0</td><td>1</td><td>0</td></tr>\n",
       "\t<tr><td>257</td><td>0</td><td>1</td><td>0</td></tr>\n",
       "\t<tr><td>260</td><td>0</td><td>1</td><td>0</td></tr>\n",
       "\t<tr><td>269</td><td>0</td><td>1</td><td>0</td></tr>\n",
       "\t<tr><td>252</td><td>0</td><td>1</td><td>0</td></tr>\n",
       "\t<tr><td>200</td><td>0</td><td>1</td><td>0</td></tr>\n",
       "\t<tr><td>296</td><td>0</td><td>1</td><td>0</td></tr>\n",
       "\t<tr><td>204</td><td>0</td><td>1</td><td>0</td></tr>\n",
       "\t<tr><td>190</td><td>0</td><td>1</td><td>0</td></tr>\n",
       "\t<tr><td>240</td><td>0</td><td>1</td><td>0</td></tr>\n",
       "\t<tr><td>350</td><td>0</td><td>1</td><td>0</td></tr>\n",
       "\t<tr><td>256</td><td>0</td><td>1</td><td>0</td></tr>\n",
       "\t<tr><td>282</td><td>0</td><td>1</td><td>0</td></tr>\n",
       "\t<tr><td>320</td><td>0</td><td>1</td><td>0</td></tr>\n",
       "\t<tr><td>216</td><td>0</td><td>0</td><td>1</td></tr>\n",
       "\t<tr><td>175</td><td>0</td><td>0</td><td>1</td></tr>\n",
       "\t<tr><td>274</td><td>0</td><td>0</td><td>1</td></tr>\n",
       "\t<tr><td>171</td><td>0</td><td>0</td><td>1</td></tr>\n",
       "\t<tr><td>187</td><td>0</td><td>0</td><td>1</td></tr>\n",
       "\t<tr><td>213</td><td>0</td><td>0</td><td>1</td></tr>\n",
       "\t<tr><td>221</td><td>0</td><td>0</td><td>1</td></tr>\n",
       "\t<tr><td>139</td><td>0</td><td>0</td><td>1</td></tr>\n",
       "\t<tr><td>226</td><td>0</td><td>0</td><td>1</td></tr>\n",
       "\t<tr><td>128</td><td>0</td><td>0</td><td>1</td></tr>\n",
       "\t<tr><td>236</td><td>0</td><td>0</td><td>1</td></tr>\n",
       "\t<tr><td>128</td><td>0</td><td>0</td><td>1</td></tr>\n",
       "\t<tr><td>217</td><td>0</td><td>0</td><td>1</td></tr>\n",
       "\t<tr><td>196</td><td>0</td><td>0</td><td>1</td></tr>\n",
       "\t<tr><td>201</td><td>0</td><td>0</td><td>1</td></tr>\n",
       "\t<tr><td>161</td><td>0</td><td>0</td><td>1</td></tr>\n",
       "</tbody>\n",
       "</table>\n"
      ],
      "text/latex": [
       "A data.frame: 48 × 4\n",
       "\\begin{tabular}{llll}\n",
       " speed & early\\_time & evening\\_time & late\\_time\\\\\n",
       " <int> & <dbl> & <dbl> & <dbl>\\\\\n",
       "\\hline\n",
       "\t  68 & 1 & 0 & 0\\\\\n",
       "\t 138 & 1 & 0 & 0\\\\\n",
       "\t  75 & 1 & 0 & 0\\\\\n",
       "\t 186 & 1 & 0 & 0\\\\\n",
       "\t  68 & 1 & 0 & 0\\\\\n",
       "\t 217 & 1 & 0 & 0\\\\\n",
       "\t  93 & 1 & 0 & 0\\\\\n",
       "\t  90 & 1 & 0 & 0\\\\\n",
       "\t  71 & 1 & 0 & 0\\\\\n",
       "\t 154 & 1 & 0 & 0\\\\\n",
       "\t 166 & 1 & 0 & 0\\\\\n",
       "\t 130 & 1 & 0 & 0\\\\\n",
       "\t  72 & 1 & 0 & 0\\\\\n",
       "\t  81 & 1 & 0 & 0\\\\\n",
       "\t  76 & 1 & 0 & 0\\\\\n",
       "\t 129 & 1 & 0 & 0\\\\\n",
       "\t 299 & 0 & 1 & 0\\\\\n",
       "\t 367 & 0 & 1 & 0\\\\\n",
       "\t 331 & 0 & 1 & 0\\\\\n",
       "\t 257 & 0 & 1 & 0\\\\\n",
       "\t 260 & 0 & 1 & 0\\\\\n",
       "\t 269 & 0 & 1 & 0\\\\\n",
       "\t 252 & 0 & 1 & 0\\\\\n",
       "\t 200 & 0 & 1 & 0\\\\\n",
       "\t 296 & 0 & 1 & 0\\\\\n",
       "\t 204 & 0 & 1 & 0\\\\\n",
       "\t 190 & 0 & 1 & 0\\\\\n",
       "\t 240 & 0 & 1 & 0\\\\\n",
       "\t 350 & 0 & 1 & 0\\\\\n",
       "\t 256 & 0 & 1 & 0\\\\\n",
       "\t 282 & 0 & 1 & 0\\\\\n",
       "\t 320 & 0 & 1 & 0\\\\\n",
       "\t 216 & 0 & 0 & 1\\\\\n",
       "\t 175 & 0 & 0 & 1\\\\\n",
       "\t 274 & 0 & 0 & 1\\\\\n",
       "\t 171 & 0 & 0 & 1\\\\\n",
       "\t 187 & 0 & 0 & 1\\\\\n",
       "\t 213 & 0 & 0 & 1\\\\\n",
       "\t 221 & 0 & 0 & 1\\\\\n",
       "\t 139 & 0 & 0 & 1\\\\\n",
       "\t 226 & 0 & 0 & 1\\\\\n",
       "\t 128 & 0 & 0 & 1\\\\\n",
       "\t 236 & 0 & 0 & 1\\\\\n",
       "\t 128 & 0 & 0 & 1\\\\\n",
       "\t 217 & 0 & 0 & 1\\\\\n",
       "\t 196 & 0 & 0 & 1\\\\\n",
       "\t 201 & 0 & 0 & 1\\\\\n",
       "\t 161 & 0 & 0 & 1\\\\\n",
       "\\end{tabular}\n"
      ],
      "text/markdown": [
       "\n",
       "A data.frame: 48 × 4\n",
       "\n",
       "| speed &lt;int&gt; | early_time &lt;dbl&gt; | evening_time &lt;dbl&gt; | late_time &lt;dbl&gt; |\n",
       "|---|---|---|---|\n",
       "|  68 | 1 | 0 | 0 |\n",
       "| 138 | 1 | 0 | 0 |\n",
       "|  75 | 1 | 0 | 0 |\n",
       "| 186 | 1 | 0 | 0 |\n",
       "|  68 | 1 | 0 | 0 |\n",
       "| 217 | 1 | 0 | 0 |\n",
       "|  93 | 1 | 0 | 0 |\n",
       "|  90 | 1 | 0 | 0 |\n",
       "|  71 | 1 | 0 | 0 |\n",
       "| 154 | 1 | 0 | 0 |\n",
       "| 166 | 1 | 0 | 0 |\n",
       "| 130 | 1 | 0 | 0 |\n",
       "|  72 | 1 | 0 | 0 |\n",
       "|  81 | 1 | 0 | 0 |\n",
       "|  76 | 1 | 0 | 0 |\n",
       "| 129 | 1 | 0 | 0 |\n",
       "| 299 | 0 | 1 | 0 |\n",
       "| 367 | 0 | 1 | 0 |\n",
       "| 331 | 0 | 1 | 0 |\n",
       "| 257 | 0 | 1 | 0 |\n",
       "| 260 | 0 | 1 | 0 |\n",
       "| 269 | 0 | 1 | 0 |\n",
       "| 252 | 0 | 1 | 0 |\n",
       "| 200 | 0 | 1 | 0 |\n",
       "| 296 | 0 | 1 | 0 |\n",
       "| 204 | 0 | 1 | 0 |\n",
       "| 190 | 0 | 1 | 0 |\n",
       "| 240 | 0 | 1 | 0 |\n",
       "| 350 | 0 | 1 | 0 |\n",
       "| 256 | 0 | 1 | 0 |\n",
       "| 282 | 0 | 1 | 0 |\n",
       "| 320 | 0 | 1 | 0 |\n",
       "| 216 | 0 | 0 | 1 |\n",
       "| 175 | 0 | 0 | 1 |\n",
       "| 274 | 0 | 0 | 1 |\n",
       "| 171 | 0 | 0 | 1 |\n",
       "| 187 | 0 | 0 | 1 |\n",
       "| 213 | 0 | 0 | 1 |\n",
       "| 221 | 0 | 0 | 1 |\n",
       "| 139 | 0 | 0 | 1 |\n",
       "| 226 | 0 | 0 | 1 |\n",
       "| 128 | 0 | 0 | 1 |\n",
       "| 236 | 0 | 0 | 1 |\n",
       "| 128 | 0 | 0 | 1 |\n",
       "| 217 | 0 | 0 | 1 |\n",
       "| 196 | 0 | 0 | 1 |\n",
       "| 201 | 0 | 0 | 1 |\n",
       "| 161 | 0 | 0 | 1 |\n",
       "\n"
      ],
      "text/plain": [
       "   speed early_time evening_time late_time\n",
       "1   68   1          0            0        \n",
       "2  138   1          0            0        \n",
       "3   75   1          0            0        \n",
       "4  186   1          0            0        \n",
       "5   68   1          0            0        \n",
       "6  217   1          0            0        \n",
       "7   93   1          0            0        \n",
       "8   90   1          0            0        \n",
       "9   71   1          0            0        \n",
       "10 154   1          0            0        \n",
       "11 166   1          0            0        \n",
       "12 130   1          0            0        \n",
       "13  72   1          0            0        \n",
       "14  81   1          0            0        \n",
       "15  76   1          0            0        \n",
       "16 129   1          0            0        \n",
       "17 299   0          1            0        \n",
       "18 367   0          1            0        \n",
       "19 331   0          1            0        \n",
       "20 257   0          1            0        \n",
       "21 260   0          1            0        \n",
       "22 269   0          1            0        \n",
       "23 252   0          1            0        \n",
       "24 200   0          1            0        \n",
       "25 296   0          1            0        \n",
       "26 204   0          1            0        \n",
       "27 190   0          1            0        \n",
       "28 240   0          1            0        \n",
       "29 350   0          1            0        \n",
       "30 256   0          1            0        \n",
       "31 282   0          1            0        \n",
       "32 320   0          1            0        \n",
       "33 216   0          0            1        \n",
       "34 175   0          0            1        \n",
       "35 274   0          0            1        \n",
       "36 171   0          0            1        \n",
       "37 187   0          0            1        \n",
       "38 213   0          0            1        \n",
       "39 221   0          0            1        \n",
       "40 139   0          0            1        \n",
       "41 226   0          0            1        \n",
       "42 128   0          0            1        \n",
       "43 236   0          0            1        \n",
       "44 128   0          0            1        \n",
       "45 217   0          0            1        \n",
       "46 196   0          0            1        \n",
       "47 201   0          0            1        \n",
       "48 161   0          0            1        "
      ]
     },
     "metadata": {},
     "output_type": "display_data"
    }
   ],
   "source": [
    "# Your Code Here\n",
    "downloading_matrix2 = select(downloading, speed, early_time, evening_time, late_time)\n",
    "downloading_matrix2"
   ]
  },
  {
   "cell_type": "code",
   "execution_count": 32,
   "metadata": {},
   "outputs": [
    {
     "data": {
      "text/plain": [
       "\n",
       "Call:\n",
       "lm(formula = speed ~ evening_time + late_time + early_time, data = downloading_matrix2)\n",
       "\n",
       "Coefficients:\n",
       " (Intercept)  evening_time     late_time    early_time  \n",
       "      113.37        159.94         79.69            NA  \n"
      ]
     },
     "metadata": {},
     "output_type": "display_data"
    }
   ],
   "source": [
    "model2 = lm(speed ~ evening_time+late_time+early_time, downloading_matrix2)\n",
    "model2"
   ]
  },
  {
   "cell_type": "markdown",
   "metadata": {},
   "source": [
    "The third predictor is showing NA because it creates linear correlation issues"
   ]
  },
  {
   "cell_type": "markdown",
   "metadata": {},
   "source": [
    "#### 4. (d) Interpretation\n",
    "\n",
    "Interpret the coefficients in the model from **4.b**. In particular:\n",
    "\n",
    "1. What is the difference between the mean download speed at 7am and the mean download speed at 5pm?\n",
    "2. What is the mean download speed (in seconds) in the morning?\n",
    "3. What is the mean download speed (in seconds) in the evening?\n",
    "4. What is the mean download speed (in seconds) at night?"
   ]
  },
  {
   "cell_type": "markdown",
   "metadata": {},
   "source": [
    "1. The difference between the mean downloading speed at 7am and at 5pm is 159.94 is the coefficient\n",
    "of evening_time\n",
    "2. Mean downloading speed in the morning is 113.37. \n",
    "3. The mean speed in the evening is the intercept + coefficient of evening_time = 113.37 +\n",
    "159.94 = 273.31\n",
    "4. The mean speed at night is the intercept + coefficient of late_time = 113.37 + 79.69 = 193.06"
   ]
  },
  {
   "cell_type": "code",
   "execution_count": null,
   "metadata": {},
   "outputs": [],
   "source": []
  }
 ],
 "metadata": {
  "kernelspec": {
   "display_name": "R",
   "language": "R",
   "name": "ir"
  },
  "language_info": {
   "codemirror_mode": "r",
   "file_extension": ".r",
   "mimetype": "text/x-r-source",
   "name": "R",
   "pygments_lexer": "r",
   "version": "3.6.3"
  }
 },
 "nbformat": 4,
 "nbformat_minor": 4
}
